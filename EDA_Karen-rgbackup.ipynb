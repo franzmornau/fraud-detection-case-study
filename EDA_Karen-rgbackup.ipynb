{
 "cells": [
  {
   "cell_type": "code",
   "execution_count": 4,
   "metadata": {},
   "outputs": [
    {
     "name": "stdout",
     "output_type": "stream",
     "text": [
      "Requirement already satisfied: reverse_geocoder in /Users/franzmornau/anaconda3/lib/python3.7/site-packages (1.5.1)\n",
      "Requirement already satisfied: numpy>=1.11.0 in /Users/franzmornau/anaconda3/lib/python3.7/site-packages (from reverse_geocoder) (1.16.2)\n",
      "Requirement already satisfied: scipy>=0.17.1 in /Users/franzmornau/anaconda3/lib/python3.7/site-packages (from reverse_geocoder) (1.2.1)\n"
     ]
    }
   ],
   "source": [
    "!pip install reverse_geocoder"
   ]
  },
  {
   "cell_type": "code",
   "execution_count": 5,
   "metadata": {},
   "outputs": [],
   "source": [
    "import pandas as pd\n",
    "\n",
    "import matplotlib.pyplot as plt\n",
    "import seaborn as sns\n",
    "\n",
    "import folium\n",
    "from folium.plugins import HeatMap\n",
    "\n",
    "from folium.plugins import FastMarkerCluster\n",
    "\n",
    "from bs4 import BeautifulSoup\n",
    "\n",
    "import reverse_geocoder as rg \n",
    "import pprint \n",
    "  "
   ]
  },
  {
   "cell_type": "code",
   "execution_count": 6,
   "metadata": {},
   "outputs": [],
   "source": [
    "df = pd.read_json('data/data.json')\n"
   ]
  },
  {
   "cell_type": "code",
   "execution_count": 7,
   "metadata": {},
   "outputs": [],
   "source": [
    "def fraud(string):\n",
    "    if 'fraud' in string or 'lock' in string or 'tos_warn' in string:\n",
    "        return True\n",
    "    else:\n",
    "        return False\n",
    "df['label'] = df.acct_type.apply(lambda x: fraud(x))"
   ]
  },
  {
   "cell_type": "code",
   "execution_count": 8,
   "metadata": {},
   "outputs": [],
   "source": [
    "df['description'] = df.description.apply(lambda x: BeautifulSoup(x).text)\n",
    "\n"
   ]
  },
  {
   "cell_type": "markdown",
   "metadata": {},
   "source": [
    "#### Geographical visualization of all the vents"
   ]
  },
  {
   "cell_type": "code",
   "execution_count": 9,
   "metadata": {},
   "outputs": [],
   "source": [
    "def generateBaseMap(default_location=[25.777471, -80.133433], default_zoom_start=12):\n",
    "    base_map = folium.Map(location=default_location, control_scale=True, zoom_start=default_zoom_start)\n",
    "    return base_map\n",
    "\n",
    "\n",
    "df_copy = df.copy()\n",
    "df_copy['count'] = 1\n",
    "base_map = generateBaseMap()\n",
    "HeatMap(data=df_copy[['venue_latitude', 'venue_longitude', 'count']].groupby(['venue_latitude', 'venue_longitude']).sum().reset_index().values.tolist(), radius=8, max_zoom=13).add_to(base_map)\n",
    "\n",
    "\n",
    "base_map.save('images/events_heatmap.html')"
   ]
  },
  {
   "cell_type": "code",
   "execution_count": 10,
   "metadata": {},
   "outputs": [
    {
     "data": {
      "text/plain": [
       "(13261, 46)"
      ]
     },
     "execution_count": 10,
     "metadata": {},
     "output_type": "execute_result"
    }
   ],
   "source": [
    "df2 = df_copy[~df_copy['venue_latitude'].isnull()]\n",
    "df2.shape"
   ]
  },
  {
   "cell_type": "code",
   "execution_count": 11,
   "metadata": {},
   "outputs": [],
   "source": [
    "lat = df2['venue_latitude'].tolist()\n",
    "lon = df2['venue_longitude'].tolist()\n",
    "locations = list(zip(lat, lon))\n",
    "\n",
    "map1 = folium.Map(location=[25.777471, -80.133433], zoom_start=11.5)\n",
    "FastMarkerCluster(data=locations).add_to(map1)\n",
    "map1.save('images/events_ClusteredMarker.html')"
   ]
  },
  {
   "cell_type": "markdown",
   "metadata": {},
   "source": [
    "#### Geographical visualization of fraudulent events only"
   ]
  },
  {
   "cell_type": "code",
   "execution_count": 12,
   "metadata": {},
   "outputs": [
    {
     "data": {
      "text/plain": [
       "(1132, 46)"
      ]
     },
     "execution_count": 12,
     "metadata": {},
     "output_type": "execute_result"
    }
   ],
   "source": [
    "fraud = df2.query('label == 1')\n",
    "fraud.shape"
   ]
  },
  {
   "cell_type": "code",
   "execution_count": 13,
   "metadata": {},
   "outputs": [
    {
     "name": "stderr",
     "output_type": "stream",
     "text": [
      "/Users/franzmornau/anaconda3/lib/python3.7/site-packages/ipykernel_launcher.py:2: SettingWithCopyWarning: \n",
      "A value is trying to be set on a copy of a slice from a DataFrame.\n",
      "Try using .loc[row_indexer,col_indexer] = value instead\n",
      "\n",
      "See the caveats in the documentation: http://pandas.pydata.org/pandas-docs/stable/indexing.html#indexing-view-versus-copy\n",
      "  \n"
     ]
    }
   ],
   "source": [
    "\n",
    "fraud['count'] = 1\n",
    "base_map = generateBaseMap()\n",
    "HeatMap(data=fraud[['venue_latitude', 'venue_longitude', 'count']].groupby(['venue_latitude', 'venue_longitude']).sum().reset_index().values.tolist(), radius=8, max_zoom=13).add_to(base_map)\n",
    "base_map.save('images/fraud_heatmap.html')"
   ]
  },
  {
   "cell_type": "code",
   "execution_count": 14,
   "metadata": {},
   "outputs": [],
   "source": [
    "lat = fraud['venue_latitude'].tolist()\n",
    "lon = fraud['venue_longitude'].tolist()\n",
    "locations = list(zip(lat, lon))\n",
    "\n",
    "map2 = folium.Map(location=[25.777471, -80.133433], zoom_start=11.5)\n",
    "FastMarkerCluster(data=locations).add_to(map2)\n",
    "map2.save('images/fraud_ClusteredMarker.html')"
   ]
  },
  {
   "cell_type": "markdown",
   "metadata": {},
   "source": [
    "#### Reverse Geocode Lookup"
   ]
  },
  {
   "cell_type": "code",
   "execution_count": 15,
   "metadata": {},
   "outputs": [
    {
     "data": {
      "text/html": [
       "<div>\n",
       "<style scoped>\n",
       "    .dataframe tbody tr th:only-of-type {\n",
       "        vertical-align: middle;\n",
       "    }\n",
       "\n",
       "    .dataframe tbody tr th {\n",
       "        vertical-align: top;\n",
       "    }\n",
       "\n",
       "    .dataframe thead th {\n",
       "        text-align: right;\n",
       "    }\n",
       "</style>\n",
       "<table border=\"1\" class=\"dataframe\">\n",
       "  <thead>\n",
       "    <tr style=\"text-align: right;\">\n",
       "      <th></th>\n",
       "      <th>venue_latitude</th>\n",
       "      <th>venue_longitude</th>\n",
       "      <th>object_id</th>\n",
       "    </tr>\n",
       "  </thead>\n",
       "  <tbody>\n",
       "    <tr>\n",
       "      <th>0</th>\n",
       "      <td>25.777471</td>\n",
       "      <td>-80.133433</td>\n",
       "      <td>527017</td>\n",
       "    </tr>\n",
       "    <tr>\n",
       "      <th>1</th>\n",
       "      <td>32.776566</td>\n",
       "      <td>-79.930922</td>\n",
       "      <td>786878</td>\n",
       "    </tr>\n",
       "    <tr>\n",
       "      <th>2</th>\n",
       "      <td>33.944201</td>\n",
       "      <td>-118.080419</td>\n",
       "      <td>787337</td>\n",
       "    </tr>\n",
       "    <tr>\n",
       "      <th>4</th>\n",
       "      <td>42.353848</td>\n",
       "      <td>-71.044276</td>\n",
       "      <td>1114349</td>\n",
       "    </tr>\n",
       "    <tr>\n",
       "      <th>5</th>\n",
       "      <td>38.209797</td>\n",
       "      <td>-84.558831</td>\n",
       "      <td>1179983</td>\n",
       "    </tr>\n",
       "  </tbody>\n",
       "</table>\n",
       "</div>"
      ],
      "text/plain": [
       "   venue_latitude  venue_longitude  object_id\n",
       "0       25.777471       -80.133433     527017\n",
       "1       32.776566       -79.930922     786878\n",
       "2       33.944201      -118.080419     787337\n",
       "4       42.353848       -71.044276    1114349\n",
       "5       38.209797       -84.558831    1179983"
      ]
     },
     "execution_count": 15,
     "metadata": {},
     "output_type": "execute_result"
    }
   ],
   "source": [
    "loc = df[['venue_latitude','venue_longitude','object_id']]\n",
    "loc = loc[~loc['venue_latitude'].isnull()]\n",
    "loc.head()"
   ]
  },
  {
   "cell_type": "code",
   "execution_count": 16,
   "metadata": {},
   "outputs": [
    {
     "name": "stdout",
     "output_type": "stream",
     "text": [
      "Loading formatted geocoded file...\n"
     ]
    }
   ],
   "source": [
    "results = []\n",
    "\n",
    "for index, row in loc.iterrows():\n",
    "    results.append(rg.search((row[0],row[1])))\n"
   ]
  },
  {
   "cell_type": "code",
   "execution_count": 17,
   "metadata": {},
   "outputs": [],
   "source": [
    "name = []\n",
    "admin1 = []\n",
    "admin2 = []\n",
    "cc = []\n",
    "\n",
    "for i in range(len(results)):\n",
    "    \n",
    "    name.append(results[i][0].get('name'))\n",
    "    admin1.append(results[i][0].get('admin1'))\n",
    "    admin2.append(results[i][0].get('admin2'))\n",
    "    cc.append(results[i][0].get('cc'))\n",
    "    "
   ]
  },
  {
   "cell_type": "code",
   "execution_count": 18,
   "metadata": {},
   "outputs": [
    {
     "data": {
      "text/html": [
       "<div>\n",
       "<style scoped>\n",
       "    .dataframe tbody tr th:only-of-type {\n",
       "        vertical-align: middle;\n",
       "    }\n",
       "\n",
       "    .dataframe tbody tr th {\n",
       "        vertical-align: top;\n",
       "    }\n",
       "\n",
       "    .dataframe thead th {\n",
       "        text-align: right;\n",
       "    }\n",
       "</style>\n",
       "<table border=\"1\" class=\"dataframe\">\n",
       "  <thead>\n",
       "    <tr style=\"text-align: right;\">\n",
       "      <th></th>\n",
       "      <th>city_std</th>\n",
       "      <th>admin1</th>\n",
       "      <th>admin2</th>\n",
       "      <th>country_std</th>\n",
       "    </tr>\n",
       "  </thead>\n",
       "  <tbody>\n",
       "    <tr>\n",
       "      <th>0</th>\n",
       "      <td>Miami Beach</td>\n",
       "      <td>Florida</td>\n",
       "      <td>Miami-Dade County</td>\n",
       "      <td>US</td>\n",
       "    </tr>\n",
       "    <tr>\n",
       "      <th>1</th>\n",
       "      <td>Charleston</td>\n",
       "      <td>South Carolina</td>\n",
       "      <td>Charleston County</td>\n",
       "      <td>US</td>\n",
       "    </tr>\n",
       "    <tr>\n",
       "      <th>2</th>\n",
       "      <td>Santa Fe Springs</td>\n",
       "      <td>California</td>\n",
       "      <td>Los Angeles County</td>\n",
       "      <td>US</td>\n",
       "    </tr>\n",
       "    <tr>\n",
       "      <th>3</th>\n",
       "      <td>Boston</td>\n",
       "      <td>Massachusetts</td>\n",
       "      <td>Suffolk County</td>\n",
       "      <td>US</td>\n",
       "    </tr>\n",
       "    <tr>\n",
       "      <th>4</th>\n",
       "      <td>Georgetown</td>\n",
       "      <td>Kentucky</td>\n",
       "      <td>Scott County</td>\n",
       "      <td>US</td>\n",
       "    </tr>\n",
       "  </tbody>\n",
       "</table>\n",
       "</div>"
      ],
      "text/plain": [
       "           city_std          admin1              admin2 country_std\n",
       "0       Miami Beach         Florida   Miami-Dade County          US\n",
       "1        Charleston  South Carolina   Charleston County          US\n",
       "2  Santa Fe Springs      California  Los Angeles County          US\n",
       "3            Boston   Massachusetts      Suffolk County          US\n",
       "4        Georgetown        Kentucky        Scott County          US"
      ]
     },
     "execution_count": 18,
     "metadata": {},
     "output_type": "execute_result"
    }
   ],
   "source": [
    "rg = pd.DataFrame(list(zip(name,admin1,admin2,cc)))\n",
    "rg.columns = ['city_std','admin1','admin2','country_std']\n",
    "rg.head()"
   ]
  },
  {
   "cell_type": "code",
   "execution_count": 26,
   "metadata": {},
   "outputs": [],
   "source": [
    "rg.to_pickle('data/rg.pkl')"
   ]
  },
  {
   "cell_type": "code",
   "execution_count": 19,
   "metadata": {},
   "outputs": [],
   "source": [
    "loc2 = pd.concat([loc,rg],ignore_index = False,axis = 1,sort=False)"
   ]
  },
  {
   "cell_type": "code",
   "execution_count": 20,
   "metadata": {},
   "outputs": [
    {
     "data": {
      "text/plain": [
       "(14267, 7)"
      ]
     },
     "execution_count": 20,
     "metadata": {},
     "output_type": "execute_result"
    }
   ],
   "source": [
    "loc2.shape"
   ]
  },
  {
   "cell_type": "code",
   "execution_count": 22,
   "metadata": {},
   "outputs": [],
   "source": [
    "loc2.to_pickle('data/loc2.pkl')"
   ]
  },
  {
   "cell_type": "code",
   "execution_count": 23,
   "metadata": {},
   "outputs": [],
   "source": [
    "import pickle\n",
    "pickle.dump(loc2, open('data/loc.p','wb'))"
   ]
  },
  {
   "cell_type": "code",
   "execution_count": 24,
   "metadata": {},
   "outputs": [],
   "source": [
    "l3= pd.read_pickle('data/loc2.pkl')"
   ]
  },
  {
   "cell_type": "code",
   "execution_count": 25,
   "metadata": {},
   "outputs": [
    {
     "data": {
      "text/html": [
       "<div>\n",
       "<style scoped>\n",
       "    .dataframe tbody tr th:only-of-type {\n",
       "        vertical-align: middle;\n",
       "    }\n",
       "\n",
       "    .dataframe tbody tr th {\n",
       "        vertical-align: top;\n",
       "    }\n",
       "\n",
       "    .dataframe thead th {\n",
       "        text-align: right;\n",
       "    }\n",
       "</style>\n",
       "<table border=\"1\" class=\"dataframe\">\n",
       "  <thead>\n",
       "    <tr style=\"text-align: right;\">\n",
       "      <th></th>\n",
       "      <th>venue_latitude</th>\n",
       "      <th>venue_longitude</th>\n",
       "      <th>object_id</th>\n",
       "      <th>city_std</th>\n",
       "      <th>admin1</th>\n",
       "      <th>admin2</th>\n",
       "      <th>country_std</th>\n",
       "    </tr>\n",
       "  </thead>\n",
       "  <tbody>\n",
       "    <tr>\n",
       "      <th>0</th>\n",
       "      <td>25.777471</td>\n",
       "      <td>-80.133433</td>\n",
       "      <td>527017.0</td>\n",
       "      <td>Miami Beach</td>\n",
       "      <td>Florida</td>\n",
       "      <td>Miami-Dade County</td>\n",
       "      <td>US</td>\n",
       "    </tr>\n",
       "    <tr>\n",
       "      <th>1</th>\n",
       "      <td>32.776566</td>\n",
       "      <td>-79.930922</td>\n",
       "      <td>786878.0</td>\n",
       "      <td>Charleston</td>\n",
       "      <td>South Carolina</td>\n",
       "      <td>Charleston County</td>\n",
       "      <td>US</td>\n",
       "    </tr>\n",
       "    <tr>\n",
       "      <th>2</th>\n",
       "      <td>33.944201</td>\n",
       "      <td>-118.080419</td>\n",
       "      <td>787337.0</td>\n",
       "      <td>Santa Fe Springs</td>\n",
       "      <td>California</td>\n",
       "      <td>Los Angeles County</td>\n",
       "      <td>US</td>\n",
       "    </tr>\n",
       "    <tr>\n",
       "      <th>3</th>\n",
       "      <td>NaN</td>\n",
       "      <td>NaN</td>\n",
       "      <td>NaN</td>\n",
       "      <td>Boston</td>\n",
       "      <td>Massachusetts</td>\n",
       "      <td>Suffolk County</td>\n",
       "      <td>US</td>\n",
       "    </tr>\n",
       "    <tr>\n",
       "      <th>4</th>\n",
       "      <td>42.353848</td>\n",
       "      <td>-71.044276</td>\n",
       "      <td>1114349.0</td>\n",
       "      <td>Georgetown</td>\n",
       "      <td>Kentucky</td>\n",
       "      <td>Scott County</td>\n",
       "      <td>US</td>\n",
       "    </tr>\n",
       "  </tbody>\n",
       "</table>\n",
       "</div>"
      ],
      "text/plain": [
       "   venue_latitude  venue_longitude  object_id          city_std  \\\n",
       "0       25.777471       -80.133433   527017.0       Miami Beach   \n",
       "1       32.776566       -79.930922   786878.0        Charleston   \n",
       "2       33.944201      -118.080419   787337.0  Santa Fe Springs   \n",
       "3             NaN              NaN        NaN            Boston   \n",
       "4       42.353848       -71.044276  1114349.0        Georgetown   \n",
       "\n",
       "           admin1              admin2 country_std  \n",
       "0         Florida   Miami-Dade County          US  \n",
       "1  South Carolina   Charleston County          US  \n",
       "2      California  Los Angeles County          US  \n",
       "3   Massachusetts      Suffolk County          US  \n",
       "4        Kentucky        Scott County          US  "
      ]
     },
     "execution_count": 25,
     "metadata": {},
     "output_type": "execute_result"
    }
   ],
   "source": [
    "l3.head()"
   ]
  },
  {
   "cell_type": "code",
   "execution_count": null,
   "metadata": {},
   "outputs": [],
   "source": []
  }
 ],
 "metadata": {
  "kernelspec": {
   "display_name": "Python 3",
   "language": "python",
   "name": "python3"
  },
  "language_info": {
   "codemirror_mode": {
    "name": "ipython",
    "version": 3
   },
   "file_extension": ".py",
   "mimetype": "text/x-python",
   "name": "python",
   "nbconvert_exporter": "python",
   "pygments_lexer": "ipython3",
   "version": "3.7.1"
  }
 },
 "nbformat": 4,
 "nbformat_minor": 2
}
