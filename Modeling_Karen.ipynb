{
 "cells": [
  {
   "cell_type": "code",
   "execution_count": 1,
   "metadata": {},
   "outputs": [],
   "source": [
    "# %load src/model_selection.py\n",
    "import pandas as pd\n",
    "import numpy as np\n",
    "import matplotlib.pyplot as plt\n",
    "import seaborn\n",
    "from sklearn.linear_model import LogisticRegression\n",
    "from sklearn.ensemble import GradientBoostingClassifier, RandomForestClassifier\n",
    "from sklearn.metrics import roc_curve, precision_score, recall_score,roc_auc_score\n",
    "from imblearn.over_sampling import SMOTE\n",
    "from sklearn.metrics import f1_score, confusion_matrix, accuracy_score, precision_score, recall_score,  classification_report, make_scorer\n",
    "\n",
    "from sklearn.preprocessing import StandardScaler\n",
    "from sklearn.metrics import roc_curve, auc\n",
    "from sklearn.pipeline import Pipeline\n",
    "from sklearn.preprocessing import StandardScaler, LabelEncoder, LabelBinarizer\n",
    "from sklearn_pandas import DataFrameMapper\n",
    "from sklearn.impute import SimpleImputer\n",
    "\n",
    "from sklearn.model_selection import train_test_split, KFold, cross_val_score, GridSearchCV\n",
    "from src.plot_confusion_matrix import plot_confusion_matrix\n",
    "%matplotlib inline\n",
    "pd.options.display.max_colwidth = 50\n",
    "\n",
    "import pickle\n",
    "\n",
    "from datetime import date\n",
    "import calendar\n",
    "\n",
    "import warnings\n",
    "warnings.simplefilter(action='ignore', category=FutureWarning)\n",
    "\n",
    "from sklearn.exceptions import DataConversionWarning\n",
    "warnings.filterwarnings(action='ignore', category=DataConversionWarning)"
   ]
  },
  {
   "cell_type": "markdown",
   "metadata": {},
   "source": [
    "* Retrieve raw data from pipeline.py.\n",
    "* Merge standardized geo-spatial (city, admin1, admin2, country) to the master data.\n",
    "* Enrich features based on the \"tickets_type\" field - unpacking lists of dictionaries."
   ]
  },
  {
   "cell_type": "code",
   "execution_count": 2,
   "metadata": {},
   "outputs": [],
   "source": [
    "# %load src/merging geospatial info.py\n",
    "import pandas as pd\n",
    "import pickle\n",
    "\n",
    "\n",
    "rg = pd.read_pickle('data/rg.pkl')\n",
    "\n",
    "get_ipython().run_line_magic('run', 'src/pipeline')\n",
    "D = FraudData('data/data.json')\n",
    "df = D.get_enriched_df()\n",
    "\n",
    "\n",
    "\n"
   ]
  },
  {
   "cell_type": "code",
   "execution_count": 3,
   "metadata": {},
   "outputs": [],
   "source": [
    "loc = df[['venue_latitude','venue_longitude','object_id']]\n",
    "loc = loc[~loc['venue_latitude'].isnull()]\n",
    "\n",
    "loc2 = loc.join(rg)\n",
    "loc3 = loc2.drop(['venue_latitude', 'venue_longitude'],axis = 1)\n",
    "df = df.merge(loc3, how='left', right_on = 'object_id', left_on = 'object_id')\n",
    "\n",
    "\n"
   ]
  },
  {
   "cell_type": "code",
   "execution_count": 4,
   "metadata": {},
   "outputs": [],
   "source": [
    "idx= df.set_index(['object_id']).ticket_types.apply(pd.Series).stack().index\n",
    "\n",
    "tmp = pd.DataFrame(df.set_index(['object_id']).ticket_types.apply(pd.Series).stack().values.tolist(),index=idx).reset_index().drop('level_1',1)\n",
    "tmp_sum = tmp.groupby('event_id').agg({'cost': ['min', 'max'],'quantity_total' : 'sum' }).reset_index()\n",
    "tmp_sum.columns = [' '.join(col).strip() for col in tmp_sum.columns.values]\n",
    "\n",
    "df = df.merge(tmp_sum, how='left', left_on = 'object_id', right_on = 'event_id')\n",
    "df['ticket_tiers_num'] = df['ticket_types'].apply(lambda x: len(x))\n",
    "\n",
    "for col in ['cost min', 'cost max','quantity_total sum']:\n",
    "    df[col]=df[col].apply(lambda x: 0 if pd.isnull(x) else x)\n",
    "\n",
    "df['day_of_week'] = df['ec_weekday'].apply(lambda x: calendar.day_name[x])\n",
    "\n",
    "df.listed.replace(('y', 'n'), (1, 0), inplace=True)"
   ]
  },
  {
   "cell_type": "code",
   "execution_count": 5,
   "metadata": {},
   "outputs": [],
   "source": [
    "n_feat = ['sale_duration', 'user_event_delta', 'cost min', 'cost max', 'quantity_total sum', \n",
    "         'body_length', 'fb_published', 'has_analytics', 'has_logo', 'listed',\n",
    "       'name_length', 'num_order', 'num_payouts', 'ticket_tiers_num','venue_longitude','venue_latitude' ]"
   ]
  },
  {
   "cell_type": "code",
   "execution_count": 6,
   "metadata": {},
   "outputs": [],
   "source": [
    "c_feat = ['currency', 'email_domain','payout_type','day_of_week']"
   ]
  },
  {
   "cell_type": "code",
   "execution_count": 7,
   "metadata": {},
   "outputs": [],
   "source": [
    "df_cat = pd.get_dummies(df[c_feat])"
   ]
  },
  {
   "cell_type": "code",
   "execution_count": 8,
   "metadata": {},
   "outputs": [],
   "source": [
    "df_cat_n = df[n_feat].join(df_cat)\n",
    "# df_cat_n.dtypes"
   ]
  },
  {
   "cell_type": "code",
   "execution_count": 9,
   "metadata": {},
   "outputs": [],
   "source": [
    "hours = pd.get_dummies(df['ec_hour'].astype(str),prefix= 'hour_')\n",
    "df2 = df_cat_n.join(hours)"
   ]
  },
  {
   "cell_type": "code",
   "execution_count": 10,
   "metadata": {},
   "outputs": [],
   "source": [
    "y = df.pop('label').values\n",
    "X = df2.copy()\n",
    "\n"
   ]
  },
  {
   "cell_type": "code",
   "execution_count": 11,
   "metadata": {},
   "outputs": [],
   "source": [
    "# feat_all = n_feat + c_feat"
   ]
  },
  {
   "cell_type": "code",
   "execution_count": 12,
   "metadata": {},
   "outputs": [],
   "source": [
    "# # Create dataframe mapper in preparation for sklearn modeling, which takes numeric numpy arrays\n",
    "# mapper = DataFrameMapper([\n",
    "#         ('sale_duration', None),\n",
    "#         ('user_event_delta', None),\n",
    "#         ('cost min', None),\n",
    "#         ('cost max', None),\n",
    "#         ('quantity_total sum', None),\n",
    "#         ('body_length', None),\n",
    "#         ('fb_published', None),\n",
    "#         ('has_analytics', None),\n",
    "#         ('has_logo', None),\n",
    "#         ('listed', None),\n",
    "#         ('name_length', None),\n",
    "#         ('num_order',None),\n",
    "#         ('num_payouts',None),\n",
    "#         ('ec_weekday',LabelBinarizer()),\n",
    "#         ('ec_hour',LabelBinarizer()),\n",
    "#         ('ticket_tiers_num',None),\n",
    "#          ('currency',LabelBinarizer()),\n",
    "#          ('email_domain',LabelBinarizer()),\n",
    "#          ('payout_type',LabelBinarizer()),\n",
    "# #          ('city_std',LabelBinarizer()),\n",
    "#          ('admin1',LabelBinarizer()),\n",
    "# #          ('admin2',LabelBinarizer()),\n",
    "#          ('country_std',LabelBinarizer())])\n",
    "         \n",
    "         \n",
    "         \n",
    "         \n",
    "         "
   ]
  },
  {
   "cell_type": "code",
   "execution_count": 13,
   "metadata": {},
   "outputs": [],
   "source": [
    "# imputation = SimpleImputer( strategy='mean',fill_value=0)"
   ]
  },
  {
   "cell_type": "code",
   "execution_count": 14,
   "metadata": {},
   "outputs": [],
   "source": [
    "# lr_pipeline = Pipeline([\n",
    "#         ('featurize', mapper),\n",
    "#         ('scale', StandardScaler()),\n",
    "#         ('impute', imputation),\n",
    "#         ('classifier', LogisticRegression())\n",
    "#         ])"
   ]
  },
  {
   "cell_type": "code",
   "execution_count": null,
   "metadata": {},
   "outputs": [],
   "source": []
  },
  {
   "cell_type": "code",
   "execution_count": 15,
   "metadata": {},
   "outputs": [],
   "source": [
    "# scaler = StandardScaler()\n",
    "# scaler.fit(X_train)\n",
    "# X_train = scaler.transform(X_train)"
   ]
  },
  {
   "cell_type": "code",
   "execution_count": 16,
   "metadata": {},
   "outputs": [],
   "source": [
    "# scaler.mean_, scaler.scale_"
   ]
  },
  {
   "cell_type": "code",
   "execution_count": 17,
   "metadata": {},
   "outputs": [],
   "source": [
    "# X_train = pd.DataFrame(X_train)\n",
    "# X_train.columns = cols"
   ]
  },
  {
   "cell_type": "code",
   "execution_count": 18,
   "metadata": {},
   "outputs": [],
   "source": [
    "# X_train = X_train.apply(lambda x: x.fillna(x.mean(),axis=0))\n"
   ]
  },
  {
   "cell_type": "code",
   "execution_count": null,
   "metadata": {},
   "outputs": [],
   "source": []
  },
  {
   "cell_type": "markdown",
   "metadata": {},
   "source": [
    "#### Model Selection"
   ]
  },
  {
   "cell_type": "code",
   "execution_count": 19,
   "metadata": {},
   "outputs": [],
   "source": [
    "X_train, X_test, y_train, y_test = train_test_split(X,y, stratify=y, random_state=42)"
   ]
  },
  {
   "cell_type": "code",
   "execution_count": 20,
   "metadata": {},
   "outputs": [],
   "source": [
    "# List of classifiers\n",
    "lr = LogisticRegression()\n",
    "rf = RandomForestClassifier(n_jobs=-1)\n",
    "gb = GradientBoostingClassifier()\n",
    "\n"
   ]
  },
  {
   "cell_type": "code",
   "execution_count": 21,
   "metadata": {},
   "outputs": [],
   "source": [
    "imputation = SimpleImputer(strategy='mean',fill_value=0)\n",
    "pipeline = (Pipeline([\n",
    "                \n",
    "                ('scale', StandardScaler()),\n",
    "                ('impute',imputation),\n",
    "                ('clf', LogisticRegression())\n",
    "                ]))"
   ]
  },
  {
   "cell_type": "code",
   "execution_count": 22,
   "metadata": {},
   "outputs": [],
   "source": [
    "def eval_scores(clf):\n",
    "    recall = cross_val_score(clf, X_train, y_train,  scoring='recall')\n",
    "    precision = cross_val_score(clf, X_train, y_train, scoring='precision')\n",
    "    f1 = cross_val_score(clf, X_train, y_train, scoring='f1')\n",
    "\n",
    "    print('Precision', np.mean(precision))\n",
    "    print('Recall', np.mean(recall))\n",
    "    print('F1', np.mean(f1))"
   ]
  },
  {
   "cell_type": "code",
   "execution_count": 23,
   "metadata": {},
   "outputs": [
    {
     "name": "stdout",
     "output_type": "stream",
     "text": [
      "Precision 0.8131197697769044\n",
      "Recall 0.6927977168775242\n",
      "F1 0.747881763227244\n"
     ]
    }
   ],
   "source": [
    "eval_scores(pipeline)"
   ]
  },
  {
   "cell_type": "code",
   "execution_count": 24,
   "metadata": {},
   "outputs": [
    {
     "name": "stdout",
     "output_type": "stream",
     "text": [
      "---------------------------------\n",
      "LogisticRegression(C=1.0, class_weight=None, dual=False, fit_intercept=True,\n",
      "          intercept_scaling=1, max_iter=100, multi_class='warn',\n",
      "          n_jobs=None, penalty='l2', random_state=None, solver='warn',\n",
      "          tol=0.0001, verbose=0, warm_start=False)\n",
      "-----------------------------------\n",
      "Accuracy Score: 0.9642956764295676\n",
      "Precision Score: 0.851985559566787\n",
      "Recall Score: 0.7306501547987616\n",
      "---------------------------------\n",
      "RandomForestClassifier(bootstrap=True, class_weight=None, criterion='gini',\n",
      "            max_depth=None, max_features='auto', max_leaf_nodes=None,\n",
      "            min_impurity_decrease=0.0, min_impurity_split=None,\n",
      "            min_samples_leaf=1, min_samples_split=2,\n",
      "            min_weight_fraction_leaf=0.0, n_estimators=10, n_jobs=-1,\n",
      "            oob_score=False, random_state=None, verbose=0,\n",
      "            warm_start=False)\n",
      "-----------------------------------\n",
      "Accuracy Score: 0.9637377963737797\n",
      "Precision Score: 0.9617224880382775\n",
      "Recall Score: 0.6222910216718266\n",
      "---------------------------------\n",
      "GradientBoostingClassifier(criterion='friedman_mse', init=None,\n",
      "              learning_rate=0.1, loss='deviance', max_depth=3,\n",
      "              max_features=None, max_leaf_nodes=None,\n",
      "              min_impurity_decrease=0.0, min_impurity_split=None,\n",
      "              min_samples_leaf=1, min_samples_split=2,\n",
      "              min_weight_fraction_leaf=0.0, n_estimators=100,\n",
      "              n_iter_no_change=None, presort='auto', random_state=None,\n",
      "              subsample=1.0, tol=0.0001, validation_fraction=0.1,\n",
      "              verbose=0, warm_start=False)\n",
      "-----------------------------------\n",
      "Accuracy Score: 0.9735006973500697\n",
      "Precision Score: 0.9285714285714286\n",
      "Recall Score: 0.7647058823529411\n"
     ]
    },
    {
     "data": {
      "text/plain": [
       "<Figure size 720x720 with 0 Axes>"
      ]
     },
     "metadata": {},
     "output_type": "display_data"
    }
   ],
   "source": [
    "pipelines = []\n",
    "\n",
    "plt.figure(figsize=(10, 10))\n",
    "for classifier in [lr, rf,gb]:\n",
    "    pipeline.set_params(clf = classifier)\n",
    "    pipeline.fit(X_train, y_train)\n",
    "    predicted = pipeline.predict(X_test)\n",
    "    y_proba = pipeline.predict_proba(X_test)[:, 1]\n",
    "    \n",
    "    print('---------------------------------')\n",
    "    print(str(classifier))\n",
    "    print('-----------------------------------')\n",
    "    accuracy = accuracy_score(y_test, predicted)\n",
    "    precision = precision_score(y_test, predicted)\n",
    "    recall = recall_score(y_test, predicted)\n",
    "    print(f\"Accuracy Score: {accuracy}\")\n",
    "    print(f\"Precision Score: {precision}\")\n",
    "    print(f\"Recall Score: {recall}\")"
   ]
  },
  {
   "cell_type": "code",
   "execution_count": 26,
   "metadata": {},
   "outputs": [],
   "source": [
    "pipeline.set_params(clf = gb)\n",
    "pipeline.fit(X_train,y_train)\n",
    "\n"
   ]
  },
  {
   "cell_type": "code",
   "execution_count": 41,
   "metadata": {},
   "outputs": [],
   "source": [
    "# feature_importances = pipeline.steps[2][1].feature_importances_\n",
    "# feature_names = X_train.columns\n",
    "# feat_impt = pd.DataFrame(feature_importances, index = feature_names)\n",
    "# feat_impt.sort_values(0, inplace = True)\n",
    "# feat_impt.plot.barh(figsize = (12, 6))"
   ]
  },
  {
   "cell_type": "code",
   "execution_count": 29,
   "metadata": {},
   "outputs": [],
   "source": [
    "# apply oversampling to pre-processed data\n",
    "\n",
    "def smote_split():\n",
    "#     print(\"Before OverSampling, counts of label '1': {}\".format(sum(y_train==1)))\n",
    "#     print(\"Before OverSampling, counts of label '0': {} \\n\".format(sum(y_train==0)))\n",
    "\n",
    "    sm = SMOTE(random_state=2)\n",
    "    X_train_res, y_train_res = sm.fit_sample(X_train, y_train.ravel())\n",
    "    return X_train_res, y_train_res \n",
    "\n",
    "    print('After OverSampling, the shape of train_X: {}'.format(X_train_res.shape))\n",
    "    print('After OverSampling, the shape of train_y: {} \\n'.format(y_train_res.shape))\n",
    "\n",
    "    print(\"After OverSampling, counts of label '1': {}\".format(sum(y_train_res==1)))\n",
    "    print(\"After OverSampling, counts of label '0': {}\".format(sum(y_train_res==0)))"
   ]
  },
  {
   "cell_type": "code",
   "execution_count": null,
   "metadata": {},
   "outputs": [],
   "source": []
  }
 ],
 "metadata": {
  "kernelspec": {
   "display_name": "Python 3",
   "language": "python",
   "name": "python3"
  },
  "language_info": {
   "codemirror_mode": {
    "name": "ipython",
    "version": 3
   },
   "file_extension": ".py",
   "mimetype": "text/x-python",
   "name": "python",
   "nbconvert_exporter": "python",
   "pygments_lexer": "ipython3",
   "version": "3.7.1"
  }
 },
 "nbformat": 4,
 "nbformat_minor": 2
}
