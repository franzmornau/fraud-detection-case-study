{
 "cells": [
  {
   "cell_type": "code",
   "execution_count": 51,
   "metadata": {},
   "outputs": [],
   "source": [
    "import numpy as np\n",
    "import pandas as pd\n",
    "import matplotlib.pyplot as plt\n",
    "import seaborn as sns"
   ]
  },
  {
   "cell_type": "code",
   "execution_count": 52,
   "metadata": {},
   "outputs": [],
   "source": [
    "df = pd.read_json('data/data.json')"
   ]
  },
  {
   "cell_type": "code",
   "execution_count": 53,
   "metadata": {},
   "outputs": [
    {
     "name": "stdout",
     "output_type": "stream",
     "text": [
      "<class 'pandas.core.frame.DataFrame'>\n",
      "RangeIndex: 14337 entries, 0 to 14336\n",
      "Data columns (total 44 columns):\n",
      "acct_type             14337 non-null object\n",
      "approx_payout_date    14337 non-null int64\n",
      "body_length           14337 non-null int64\n",
      "channels              14337 non-null int64\n",
      "country               14256 non-null object\n",
      "currency              14337 non-null object\n",
      "delivery_method       14321 non-null float64\n",
      "description           14337 non-null object\n",
      "email_domain          14337 non-null object\n",
      "event_created         14337 non-null int64\n",
      "event_end             14337 non-null int64\n",
      "event_published       14238 non-null float64\n",
      "event_start           14337 non-null int64\n",
      "fb_published          14337 non-null int64\n",
      "gts                   14337 non-null float64\n",
      "has_analytics         14337 non-null int64\n",
      "has_header            8928 non-null float64\n",
      "has_logo              14337 non-null int64\n",
      "listed                14337 non-null object\n",
      "name                  14337 non-null object\n",
      "name_length           14337 non-null int64\n",
      "num_order             14337 non-null int64\n",
      "num_payouts           14337 non-null int64\n",
      "object_id             14337 non-null int64\n",
      "org_desc              14337 non-null object\n",
      "org_facebook          14278 non-null float64\n",
      "org_name              14337 non-null object\n",
      "org_twitter           14278 non-null float64\n",
      "payee_name            14337 non-null object\n",
      "payout_type           14337 non-null object\n",
      "previous_payouts      14337 non-null object\n",
      "sale_duration         14182 non-null float64\n",
      "sale_duration2        14337 non-null int64\n",
      "show_map              14337 non-null int64\n",
      "ticket_types          14337 non-null object\n",
      "user_age              14337 non-null int64\n",
      "user_created          14337 non-null int64\n",
      "user_type             14337 non-null int64\n",
      "venue_address         14337 non-null object\n",
      "venue_country         13261 non-null object\n",
      "venue_latitude        13261 non-null float64\n",
      "venue_longitude       13261 non-null float64\n",
      "venue_name            13261 non-null object\n",
      "venue_state           13261 non-null object\n",
      "dtypes: float64(9), int64(18), object(17)\n",
      "memory usage: 4.8+ MB\n"
     ]
    }
   ],
   "source": [
    "df.info()"
   ]
  },
  {
   "cell_type": "code",
   "execution_count": 54,
   "metadata": {},
   "outputs": [
    {
     "data": {
      "text/plain": [
       "0        1259613950\n",
       "1        1280942776\n",
       "2        1272559388\n",
       "3        1283870102\n",
       "4        1288984065\n",
       "5        1268579110\n",
       "6        1233437951\n",
       "7        1288276103\n",
       "8        1294428121\n",
       "9        1288276103\n",
       "10       1231436612\n",
       "11       1258180664\n",
       "12       1225799820\n",
       "13       1255857361\n",
       "14       1279046075\n",
       "15       1264709634\n",
       "16       1264709634\n",
       "17       1297479866\n",
       "18       1236178830\n",
       "19       1297470242\n",
       "20       1297501981\n",
       "21       1264487280\n",
       "22       1259603019\n",
       "23       1259786059\n",
       "24       1289584604\n",
       "25       1252729123\n",
       "26       1295576777\n",
       "27       1277913245\n",
       "28       1279136852\n",
       "29       1228711936\n",
       "            ...    \n",
       "14307    1308777954\n",
       "14308    1326959165\n",
       "14309    1328868816\n",
       "14310    1355437639\n",
       "14311    1358378426\n",
       "14312    1358277129\n",
       "14313    1308699612\n",
       "14314    1290081059\n",
       "14315    1332158693\n",
       "14316    1358948648\n",
       "14317    1294615173\n",
       "14318    1358975276\n",
       "14319    1327327750\n",
       "14320    1359114737\n",
       "14321    1264635720\n",
       "14322    1359232544\n",
       "14323    1342086238\n",
       "14324    1339442907\n",
       "14325    1359415820\n",
       "14326    1359314015\n",
       "14327    1325019798\n",
       "14328    1295117568\n",
       "14329    1295117568\n",
       "14330    1308080253\n",
       "14331    1354810526\n",
       "14332    1360297993\n",
       "14333    1241625346\n",
       "14334    1353386971\n",
       "14335    1290204991\n",
       "14336    1360686845\n",
       "Name: user_created, Length: 14337, dtype: int64"
      ]
     },
     "execution_count": 54,
     "metadata": {},
     "output_type": "execute_result"
    }
   ],
   "source": [
    "df.user_created"
   ]
  },
  {
   "cell_type": "code",
   "execution_count": 55,
   "metadata": {},
   "outputs": [],
   "source": [
    "# # iterate through all columns and extract the unique values in each column\n",
    "# for col in df.columns:\n",
    "#     vals = df[col].unique()\n",
    "    \n",
    "#     if len(vals) < 35:\n",
    "#         print(col)\n",
    "#         print(vals)\n",
    "#     else:\n",
    "#         print(col +': '+str(len(vals))+' unique values')"
   ]
  },
  {
   "cell_type": "code",
   "execution_count": 56,
   "metadata": {},
   "outputs": [
    {
     "data": {
      "text/plain": [
       "premium             12373\n",
       "fraudster_event       851\n",
       "fraudster             437\n",
       "spammer_limited       218\n",
       "spammer_warn          144\n",
       "tos_warn               91\n",
       "spammer_noinvite       84\n",
       "tos_lock               77\n",
       "locked                 54\n",
       "fraudster_att           5\n",
       "spammer_web             2\n",
       "spammer                 1\n",
       "Name: acct_type, dtype: int64"
      ]
     },
     "execution_count": 56,
     "metadata": {},
     "output_type": "execute_result"
    }
   ],
   "source": [
    "df.acct_type.value_counts()"
   ]
  },
  {
   "cell_type": "code",
   "execution_count": 57,
   "metadata": {},
   "outputs": [],
   "source": [
    "def fraud(string):\n",
    "    if 'fraud' in string:\n",
    "        return True\n",
    "    else:\n",
    "        return False"
   ]
  },
  {
   "cell_type": "code",
   "execution_count": 58,
   "metadata": {},
   "outputs": [],
   "source": [
    "df['fraud'] = df.acct_type.apply(lambda x: fraud(x))"
   ]
  },
  {
   "cell_type": "code",
   "execution_count": 59,
   "metadata": {},
   "outputs": [],
   "source": [
    "fraud_df = df[df['fraud']==True]\n",
    "nofraud_df = df[df['fraud']==False]"
   ]
  },
  {
   "cell_type": "code",
   "execution_count": 60,
   "metadata": {},
   "outputs": [
    {
     "data": {
      "text/plain": [
       "0.09018623142916929"
      ]
     },
     "execution_count": 60,
     "metadata": {},
     "output_type": "execute_result"
    }
   ],
   "source": [
    "df['fraud'].value_counts()[1] / (df['fraud'].value_counts()[1] + df['fraud'].value_counts()[0])"
   ]
  },
  {
   "cell_type": "code",
   "execution_count": 61,
   "metadata": {},
   "outputs": [
    {
     "data": {
      "text/plain": [
       "Index(['acct_type', 'approx_payout_date', 'body_length', 'channels', 'country',\n",
       "       'currency', 'delivery_method', 'description', 'email_domain',\n",
       "       'event_created', 'event_end', 'event_published', 'event_start',\n",
       "       'fb_published', 'gts', 'has_analytics', 'has_header', 'has_logo',\n",
       "       'listed', 'name', 'name_length', 'num_order', 'num_payouts',\n",
       "       'object_id', 'org_desc', 'org_facebook', 'org_name', 'org_twitter',\n",
       "       'payee_name', 'payout_type', 'previous_payouts', 'sale_duration',\n",
       "       'sale_duration2', 'show_map', 'ticket_types', 'user_age',\n",
       "       'user_created', 'user_type', 'venue_address', 'venue_country',\n",
       "       'venue_latitude', 'venue_longitude', 'venue_name', 'venue_state',\n",
       "       'fraud'],\n",
       "      dtype='object')"
      ]
     },
     "execution_count": 61,
     "metadata": {},
     "output_type": "execute_result"
    }
   ],
   "source": [
    "df.columns"
   ]
  },
  {
   "cell_type": "code",
   "execution_count": 62,
   "metadata": {},
   "outputs": [
    {
     "data": {
      "image/png": "[encoded data removed]",
      "text/plain": [
       "<Figure size 432x288 with 1 Axes>"
      ]
     },
     "metadata": {
      "needs_background": "light"
     },
     "output_type": "display_data"
    }
   ],
   "source": [
    "fraud = fraud_df['sale_duration']\n",
    "nofraud = nofraud_df['sale_duration']\n",
    "bins = np.linspace(-100,550)\n",
    "plt.hist(fraud, bins, alpha=0.9, label='fraudulent')\n",
    "plt.hist(nofraud, bins, alpha=0.3, label='no fraud')\n",
    "plt.legend(loc='upper right')\n",
    "plt.yscale('symlog')\n",
    "plt.xlabel('sale_duration')\n",
    "plt.ylabel('frequency')\n",
    "plt.title('Distribution of Sale Duration between classes')\n",
    "plt.show()\n",
    "# plt.savefig('img/inpatient_visits.png')"
   ]
  },
  {
   "cell_type": "code",
   "execution_count": 63,
   "metadata": {},
   "outputs": [
    {
     "data": {
      "image/png": "[encoded data removed]",
      "text/plain": [
       "<Figure size 432x288 with 1 Axes>"
      ]
     },
     "metadata": {
      "needs_background": "light"
     },
     "output_type": "display_data"
    }
   ],
   "source": [
    "fraud = fraud_df['sale_duration2']\n",
    "nofraud = nofraud_df['sale_duration2']\n",
    "bins = np.linspace(-100,550)\n",
    "plt.hist(fraud, bins, alpha=0.9, label='fraudulent')\n",
    "plt.hist(nofraud, bins, alpha=0.3, label='no fraud')\n",
    "plt.legend(loc='upper right')\n",
    "plt.yscale('symlog')\n",
    "plt.xlabel('sale_duration')\n",
    "plt.ylabel('frequency')\n",
    "plt.title('Distribution of Sale Duration between classes')\n",
    "plt.show()\n",
    "# plt.savefig('img/inpatient_visits.png')"
   ]
  },
  {
   "cell_type": "code",
   "execution_count": 64,
   "metadata": {},
   "outputs": [
    {
     "name": "stdout",
     "output_type": "stream",
     "text": [
      "Average sale duration for fraudulent cases: 14.12595744680851\n",
      "Average sale duration for non fraudulent cases: 49.827631275467056\n"
     ]
    }
   ],
   "source": [
    "print('Average sale duration for fraudulent cases: ' + str(fraud_df.sale_duration.mean()))\n",
    "print('Average sale duration for non fraudulent cases: ' + str(nofraud_df.sale_duration.mean()))"
   ]
  },
  {
   "cell_type": "code",
   "execution_count": null,
   "metadata": {},
   "outputs": [],
   "source": []
  },
  {
   "cell_type": "code",
   "execution_count": 65,
   "metadata": {},
   "outputs": [
    {
     "data": {
      "image/png": "[encoded data removed]",
      "text/plain": [
       "<Figure size 432x288 with 1 Axes>"
      ]
     },
     "metadata": {
      "needs_background": "light"
     },
     "output_type": "display_data"
    }
   ],
   "source": [
    "fraud = fraud_df['body_length']\n",
    "nofraud = nofraud_df['body_length']\n",
    "bins = np.linspace(0,80000)\n",
    "plt.hist(fraud, bins, alpha=0.9, label='fraudulent')\n",
    "plt.hist(nofraud, bins, alpha=0.3, label='no fraud')\n",
    "plt.legend(loc='upper right')\n",
    "plt.yscale('symlog')\n",
    "plt.xlabel('body_length')\n",
    "plt.ylabel('frequency')\n",
    "plt.title('Distribution of Body Length between classes')\n",
    "plt.show()"
   ]
  },
  {
   "cell_type": "code",
   "execution_count": 66,
   "metadata": {},
   "outputs": [
    {
     "data": {
      "image/png": "[encoded data removed]",
      "text/plain": [
       "<Figure size 432x288 with 1 Axes>"
      ]
     },
     "metadata": {
      "needs_background": "light"
     },
     "output_type": "display_data"
    }
   ],
   "source": [
    "fraud = fraud_df['channels']\n",
    "nofraud = nofraud_df['channels']\n",
    "bins = np.linspace(0,20)\n",
    "plt.hist(fraud, bins, alpha=0.9, label='fraudulent')\n",
    "plt.hist(nofraud, bins, alpha=0.3, label='no fraud')\n",
    "plt.legend(loc='upper right')\n",
    "plt.yscale('symlog')\n",
    "plt.xlabel('body_length')\n",
    "plt.ylabel('frequency')\n",
    "plt.title('Distribution of Channels between classes')\n",
    "plt.show()"
   ]
  },
  {
   "cell_type": "code",
   "execution_count": 92,
   "metadata": {},
   "outputs": [
    {
     "data": {
      "image/png": "[encoded data removed]",
      "text/plain": [
       "<Figure size 432x288 with 1 Axes>"
      ]
     },
     "metadata": {
      "needs_background": "light"
     },
     "output_type": "display_data"
    }
   ],
   "source": [
    "fraud = fraud_df['body_length']\n",
    "nofraud = nofraud_df['body_length']\n",
    "bins = np.linspace(0,80000)\n",
    "plt.hist(fraud, bins, alpha=1, label='fraudulent')\n",
    "plt.hist(nofraud, bins, alpha=0.3, label='no fraud')\n",
    "plt.legend(loc='upper right')\n",
    "plt.yscale('symlog')\n",
    "plt.xlabel('body_length')\n",
    "plt.ylabel('frequency')\n",
    "plt.title('Distribution of Body Length between classes')\n",
    "plt.show()"
   ]
  },
  {
   "cell_type": "code",
   "execution_count": 68,
   "metadata": {},
   "outputs": [
    {
     "data": {
      "text/plain": [
       "0    12510\n",
       "1     1827\n",
       "Name: fb_published, dtype: int64"
      ]
     },
     "execution_count": 68,
     "metadata": {},
     "output_type": "execute_result"
    }
   ],
   "source": [
    "df.fb_published.value_counts()"
   ]
  },
  {
   "cell_type": "code",
   "execution_count": 69,
   "metadata": {},
   "outputs": [
    {
     "data": {
      "image/png": "[encoded data removed]",
      "text/plain": [
       "<Figure size 432x288 with 1 Axes>"
      ]
     },
     "metadata": {
      "needs_background": "light"
     },
     "output_type": "display_data"
    }
   ],
   "source": [
    "fraud = fraud_df['fb_published']\n",
    "nofraud = nofraud_df['fb_published']\n",
    "bins = np.linspace(-1,2)\n",
    "plt.hist(fraud, bins, alpha=0.9, label='fraudulent')\n",
    "plt.hist(nofraud, bins, alpha=0.3, label='no fraud')\n",
    "plt.legend(loc='upper right')\n",
    "plt.yscale('symlog')\n",
    "plt.xlabel('body_length')\n",
    "plt.ylabel('frequency')\n",
    "plt.title('Distribution of FB_published between classes')\n",
    "plt.show()"
   ]
  },
  {
   "cell_type": "code",
   "execution_count": 70,
   "metadata": {},
   "outputs": [
    {
     "data": {
      "image/png": "[encoded data removed]",
      "text/plain": [
       "<Figure size 432x288 with 1 Axes>"
      ]
     },
     "metadata": {
      "needs_background": "light"
     },
     "output_type": "display_data"
    }
   ],
   "source": [
    "fraud = fraud_df['has_logo']\n",
    "nofraud = nofraud_df['has_logo']\n",
    "bins = np.linspace(0,1)\n",
    "plt.hist(fraud, bins, alpha=0.9, label='fraudulent')\n",
    "plt.hist(nofraud, bins, alpha=0.3, label='no fraud')\n",
    "plt.legend(loc='upper right')\n",
    "plt.yscale('symlog')\n",
    "plt.xlabel('Logo Present')\n",
    "plt.ylabel('frequency')\n",
    "plt.title('Distribution of Logo Present between classes')\n",
    "plt.show()"
   ]
  },
  {
   "cell_type": "code",
   "execution_count": null,
   "metadata": {},
   "outputs": [],
   "source": []
  },
  {
   "cell_type": "code",
   "execution_count": 187,
   "metadata": {},
   "outputs": [
    {
     "data": {
      "image/png": "[encoded data removed]",
      "text/plain": [
       "<Figure size 432x288 with 1 Axes>"
      ]
     },
     "metadata": {
      "needs_background": "light"
     },
     "output_type": "display_data"
    }
   ],
   "source": [
    "fraud = fraud_df['num_payouts']\n",
    "nofraud = nofraud_df['num_payouts']\n",
    "bins = np.linspace(0,2000)\n",
    "plt.hist(fraud, bins, alpha=0.9, label='fraudulent')\n",
    "plt.hist(nofraud, bins, alpha=0.3, label='no fraud')\n",
    "plt.legend(loc='upper right')\n",
    "plt.yscale('symlog')\n",
    "plt.xlabel('Number of Payouts')\n",
    "plt.ylabel('counts')\n",
    "plt.title('Distribution of Logo Present between classes')\n",
    "plt.show()"
   ]
  },
  {
   "cell_type": "code",
   "execution_count": 71,
   "metadata": {},
   "outputs": [
    {
     "name": "stdout",
     "output_type": "stream",
     "text": [
      "<class 'pandas.core.frame.DataFrame'>\n",
      "RangeIndex: 14337 entries, 0 to 14336\n",
      "Data columns (total 45 columns):\n",
      "acct_type             14337 non-null object\n",
      "approx_payout_date    14337 non-null int64\n",
      "body_length           14337 non-null int64\n",
      "channels              14337 non-null int64\n",
      "country               14256 non-null object\n",
      "currency              14337 non-null object\n",
      "delivery_method       14321 non-null float64\n",
      "description           14337 non-null object\n",
      "email_domain          14337 non-null object\n",
      "event_created         14337 non-null int64\n",
      "event_end             14337 non-null int64\n",
      "event_published       14238 non-null float64\n",
      "event_start           14337 non-null int64\n",
      "fb_published          14337 non-null int64\n",
      "gts                   14337 non-null float64\n",
      "has_analytics         14337 non-null int64\n",
      "has_header            8928 non-null float64\n",
      "has_logo              14337 non-null int64\n",
      "listed                14337 non-null object\n",
      "name                  14337 non-null object\n",
      "name_length           14337 non-null int64\n",
      "num_order             14337 non-null int64\n",
      "num_payouts           14337 non-null int64\n",
      "object_id             14337 non-null int64\n",
      "org_desc              14337 non-null object\n",
      "org_facebook          14278 non-null float64\n",
      "org_name              14337 non-null object\n",
      "org_twitter           14278 non-null float64\n",
      "payee_name            14337 non-null object\n",
      "payout_type           14337 non-null object\n",
      "previous_payouts      14337 non-null object\n",
      "sale_duration         14182 non-null float64\n",
      "sale_duration2        14337 non-null int64\n",
      "show_map              14337 non-null int64\n",
      "ticket_types          14337 non-null object\n",
      "user_age              14337 non-null int64\n",
      "user_created          14337 non-null int64\n",
      "user_type             14337 non-null int64\n",
      "venue_address         14337 non-null object\n",
      "venue_country         13261 non-null object\n",
      "venue_latitude        13261 non-null float64\n",
      "venue_longitude       13261 non-null float64\n",
      "venue_name            13261 non-null object\n",
      "venue_state           13261 non-null object\n",
      "fraud                 14337 non-null bool\n",
      "dtypes: bool(1), float64(9), int64(18), object(17)\n",
      "memory usage: 4.8+ MB\n"
     ]
    }
   ],
   "source": [
    "df.info()"
   ]
  },
  {
   "cell_type": "markdown",
   "metadata": {},
   "source": [
    "#### NLP "
   ]
  },
  {
   "cell_type": "code",
   "execution_count": 72,
   "metadata": {},
   "outputs": [
    {
     "data": {
      "text/plain": [
       "False    13044\n",
       "True      1293\n",
       "Name: fraud, dtype: int64"
      ]
     },
     "execution_count": 72,
     "metadata": {},
     "output_type": "execute_result"
    }
   ],
   "source": [
    "df.fraud.value_counts()"
   ]
  },
  {
   "cell_type": "code",
   "execution_count": 73,
   "metadata": {},
   "outputs": [],
   "source": [
    "from sklearn.ensemble import RandomForestClassifier\n",
    "from sklearn.model_selection import train_test_split\n",
    "from sklearn.feature_extraction.text import TfidfVectorizer"
   ]
  },
  {
   "cell_type": "code",
   "execution_count": 173,
   "metadata": {},
   "outputs": [
    {
     "name": "stderr",
     "output_type": "stream",
     "text": [
      "Using TensorFlow backend.\n"
     ]
    }
   ],
   "source": [
    "from sklearn import model_selection, preprocessing, linear_model, naive_bayes, metrics, svm\n",
    "from sklearn.feature_extraction.text import TfidfVectorizer, CountVectorizer\n",
    "from sklearn import decomposition, ensemble\n",
    "\n",
    "import pandas, xgboost, numpy, textblob, string\n",
    "from keras.preprocessing import text, sequence\n",
    "from keras import layers, models, optimizers"
   ]
  },
  {
   "cell_type": "code",
   "execution_count": 76,
   "metadata": {},
   "outputs": [],
   "source": [
    "# strip out all HTML\n",
    "from bs4 import BeautifulSoup\n",
    "df['description'] = df.description.apply(lambda x: BeautifulSoup(x).text)"
   ]
  },
  {
   "cell_type": "code",
   "execution_count": 174,
   "metadata": {},
   "outputs": [
    {
     "data": {
      "text/plain": [
       "0        \\n \\nParty Starz Entertaintment & Diverse Inte...\n",
       "1        Join us for a quick, one-night, community-buil...\n",
       "2        Teacher Training on the Desired Results Develo...\n",
       "3        Affiliations are now due in respect of the 201...\n",
       "4        Writers and filmmakers need to understand thei...\n",
       "5        Come join the Bluegrass Stallions as they take...\n",
       "6                                                   \\n \\n \n",
       "7        WHEN JEKYLL MET HYDE\\nThe Magnetic Theatre in ...\n",
       "8        Merchants Exchange Productions and \\nthe Julia...\n",
       "9        WHEN JEKYLL MET HYDE\\nThe Magnetic Theatre in ...\n",
       "10       What are some potential warning signs of abuse...\n",
       "11       monkeyface eel champion, blogger and street pe...\n",
       "12       \\n\\n\\n\\n\\nYou’ve got a profile on LinkedIn – N...\n",
       "13       Enchantment: The Art of Changing Hearts, Minds...\n",
       "14       Top celebrity & editorial stylists Ilaria Urbi...\n",
       "15       \\n\\n\\n\\n\\n\"An education film that gets it\"Wash...\n",
       "16       \\n\\n\\n\\n\\n\"An education film that gets it\"Wash...\n",
       "17                                                        \n",
       "18       Rob Holmes is one of the world's best online i...\n",
       "19       Lookingforanewexperience? Come and be a part o...\n",
       "20       Since its inception ÉCU- The European Independ...\n",
       "21       Private drum lessons with Jim Riley of Rascal ...\n",
       "22       This retreat is for guys working in the world ...\n",
       "23       Cultures, Strategic Markets, & Fair Housing\\n ...\n",
       "24       This event will sell out. Reserve your spot fo...\n",
       "25       \\n\\nCub Scouts and Boy Scouts alike will find ...\n",
       "26       Welcome\\n \\n\\n\\n5th Annual Earth Transformatio...\n",
       "27       Tickets to Chicago Forward: A Conversation wit...\n",
       "28       Come and Join the #1 Botox and Dermal Fillers ...\n",
       "29       DISTRIKT is a San Francisco based Burning Man ...\n",
       "                               ...                        \n",
       "14307                                                     \n",
       "14308    Bethel Music Spring Tour: Charlotte Night of W...\n",
       "14309    The second Brazil Wind Energy Conference, BWEC...\n",
       "14310    \\nLADIES!!!  You and your guests are invited t...\n",
       "14311    This powerful seminar equips individuals, chur...\n",
       "14312    2013 Winfield Criterium Weekend - July 27, 201...\n",
       "14313                                                     \n",
       "14314    Day 1: February 13, 2013| 8:30 AM - 4:30 PM\\nD...\n",
       "14315    Kris & Eiki\\n\\nTeachers workshop\\n\\nSunday 13....\n",
       "14316    After the success of a solid 365 days in the y...\n",
       "14317    STREAM THE NEW ALBUM UNITED STATES OF GOD DES ...\n",
       "14318    Help us produce this incredible experience. Th...\n",
       "14319    \\n     Overview     I     What to expect     I...\n",
       "14320    Saltmine Theatre Company's production of 'Thre...\n",
       "14321    Content strategy, marketing, creation, curatio...\n",
       "14322                                                     \n",
       "14323    On behalf of Computing At School and the Netwo...\n",
       "14324    LEGION FETISH EVENTS\\n IS BACK AND STRONGER\\n ...\n",
       "14325    You are cordially invited to join us for a onc...\n",
       "14326    Demonstration of Mediumship by Sandie Byrne Me...\n",
       "14327    Anti-Racist Pedagogy Across the Curriculum Wor...\n",
       "14328    What you will be shown on the day...\\n\\nThis 1...\n",
       "14329    What you will be shown on the day...\\n\\nThis 1...\n",
       "14330                                                     \n",
       "14331    Mastered the basics of IntelliPlex and now loo...\n",
       "14332    Celebrates this wonderful holiday with the fri...\n",
       "14333    \\n\\n\\n\\n2013 Scientist of the Year\\nHonoring  ...\n",
       "14334    What a way to start off your Mother's Day ladi...\n",
       "14335    Valentines Day At Salsa Con Fuego\\n \\nSalsa Co...\n",
       "14336                                                     \n",
       "Name: description, Length: 14337, dtype: object"
      ]
     },
     "execution_count": 174,
     "metadata": {},
     "output_type": "execute_result"
    }
   ],
   "source": [
    "df.description"
   ]
  },
  {
   "cell_type": "markdown",
   "metadata": {},
   "source": [
    "### CountVectorizer"
   ]
  },
  {
   "cell_type": "code",
   "execution_count": 175,
   "metadata": {},
   "outputs": [],
   "source": [
    "X_train, X_val, y_train, y_val = train_test_split(df['description'],df['fraud'])\n"
   ]
  },
  {
   "cell_type": "code",
   "execution_count": 176,
   "metadata": {},
   "outputs": [],
   "source": [
    "encoder = preprocessing.LabelEncoder()\n",
    "y_train = encoder.fit_transform(y_train)\n",
    "y_val = encoder.fit_transform(y_val)"
   ]
  },
  {
   "cell_type": "code",
   "execution_count": 179,
   "metadata": {},
   "outputs": [
    {
     "data": {
      "text/plain": [
       "CountVectorizer(analyzer='word', binary=False, decode_error='strict',\n",
       "        dtype=<class 'numpy.int64'>, encoding='utf-8', input='content',\n",
       "        lowercase=True, max_df=1.0, max_features=None, min_df=1,\n",
       "        ngram_range=(1, 1), preprocessor=None, stop_words=None,\n",
       "        strip_accents=None, token_pattern='(?u)\\\\b\\\\w\\\\w+\\\\b',\n",
       "        tokenizer=None, vocabulary=None)"
      ]
     },
     "execution_count": 179,
     "metadata": {},
     "output_type": "execute_result"
    }
   ],
   "source": [
    "count_vect = CountVectorizer()\n",
    "count_vect.fit(X_train)"
   ]
  },
  {
   "cell_type": "code",
   "execution_count": 180,
   "metadata": {},
   "outputs": [],
   "source": [
    "X_train_count = count_vect.transform(X_train)\n",
    "X_val_count = count_vect.transform(X_val)"
   ]
  },
  {
   "cell_type": "markdown",
   "metadata": {},
   "source": [
    "### "
   ]
  },
  {
   "cell_type": "code",
   "execution_count": null,
   "metadata": {},
   "outputs": [],
   "source": []
  },
  {
   "cell_type": "code",
   "execution_count": null,
   "metadata": {},
   "outputs": [],
   "source": []
  },
  {
   "cell_type": "code",
   "execution_count": null,
   "metadata": {},
   "outputs": [],
   "source": []
  },
  {
   "cell_type": "code",
   "execution_count": null,
   "metadata": {},
   "outputs": [],
   "source": []
  },
  {
   "cell_type": "code",
   "execution_count": null,
   "metadata": {},
   "outputs": [],
   "source": []
  },
  {
   "cell_type": "code",
   "execution_count": null,
   "metadata": {},
   "outputs": [],
   "source": []
  },
  {
   "cell_type": "code",
   "execution_count": null,
   "metadata": {},
   "outputs": [],
   "source": []
  },
  {
   "cell_type": "code",
   "execution_count": null,
   "metadata": {},
   "outputs": [],
   "source": []
  },
  {
   "cell_type": "code",
   "execution_count": null,
   "metadata": {},
   "outputs": [],
   "source": []
  },
  {
   "cell_type": "code",
   "execution_count": 77,
   "metadata": {},
   "outputs": [],
   "source": [
    "#feature vectorization\n",
    "vectorize = TfidfVectorizer(lowercase=True, stop_words='english',\n",
    "                          max_features=5000, ngram_range=(1,3))\n",
    "# X_train, X_test, y_train, y_test = train_test_split(X_train, y_train, random_state=0)"
   ]
  },
  {
   "cell_type": "code",
   "execution_count": 160,
   "metadata": {},
   "outputs": [
    {
     "data": {
      "text/html": [
       "<div>\n",
       "<style scoped>\n",
       "    .dataframe tbody tr th:only-of-type {\n",
       "        vertical-align: middle;\n",
       "    }\n",
       "\n",
       "    .dataframe tbody tr th {\n",
       "        vertical-align: top;\n",
       "    }\n",
       "\n",
       "    .dataframe thead th {\n",
       "        text-align: right;\n",
       "    }\n",
       "</style>\n",
       "<table border=\"1\" class=\"dataframe\">\n",
       "  <thead>\n",
       "    <tr style=\"text-align: right;\">\n",
       "      <th></th>\n",
       "      <th>0</th>\n",
       "    </tr>\n",
       "  </thead>\n",
       "  <tbody>\n",
       "    <tr>\n",
       "      <th>0</th>\n",
       "      <td>(0, 3346)\\t0.21763636853334473\\n  (0, 1519)\\...</td>\n",
       "    </tr>\n",
       "    <tr>\n",
       "      <th>1</th>\n",
       "      <td>(0, 4183)\\t0.1328751456087362\\n  (0, 3131)\\t...</td>\n",
       "    </tr>\n",
       "    <tr>\n",
       "      <th>2</th>\n",
       "      <td>(0, 2327)\\t0.0393441727104301\\n  (0, 137)\\t0...</td>\n",
       "    </tr>\n",
       "    <tr>\n",
       "      <th>3</th>\n",
       "      <td>(0, 2495)\\t0.04508205285404109\\n  (0, 2912)\\...</td>\n",
       "    </tr>\n",
       "    <tr>\n",
       "      <th>4</th>\n",
       "      <td>(0, 3346)\\t0.03872670694611755\\n  (0, 4414)\\...</td>\n",
       "    </tr>\n",
       "    <tr>\n",
       "      <th>5</th>\n",
       "      <td>(0, 2576)\\t0.2131311621866112\\n  (0, 1115)\\t...</td>\n",
       "    </tr>\n",
       "    <tr>\n",
       "      <th>6</th>\n",
       "      <td></td>\n",
       "    </tr>\n",
       "    <tr>\n",
       "      <th>7</th>\n",
       "      <td>(0, 3542)\\t0.09235887932213196\\n  (0, 1099)\\...</td>\n",
       "    </tr>\n",
       "    <tr>\n",
       "      <th>8</th>\n",
       "      <td>(0, 1697)\\t0.07203120649169771\\n  (0, 1903)\\...</td>\n",
       "    </tr>\n",
       "    <tr>\n",
       "      <th>9</th>\n",
       "      <td>(0, 3542)\\t0.09235887932213196\\n  (0, 1099)\\...</td>\n",
       "    </tr>\n",
       "    <tr>\n",
       "      <th>10</th>\n",
       "      <td>(0, 1519)\\t0.0575760968906875\\n  (0, 1645)\\t...</td>\n",
       "    </tr>\n",
       "    <tr>\n",
       "      <th>11</th>\n",
       "      <td>(0, 2072)\\t0.09689739493487798\\n  (0, 2848)\\...</td>\n",
       "    </tr>\n",
       "    <tr>\n",
       "      <th>12</th>\n",
       "      <td>(0, 3202)\\t0.054038097103977806\\n  (0, 2327)...</td>\n",
       "    </tr>\n",
       "    <tr>\n",
       "      <th>13</th>\n",
       "      <td>(0, 2848)\\t0.0358962375746544\\n  (0, 2440)\\t...</td>\n",
       "    </tr>\n",
       "    <tr>\n",
       "      <th>14</th>\n",
       "      <td>(0, 2495)\\t0.045492203335051155\\n  (0, 3011)...</td>\n",
       "    </tr>\n",
       "    <tr>\n",
       "      <th>15</th>\n",
       "      <td>(0, 3503)\\t0.112828118165562\\n  (0, 4849)\\t0...</td>\n",
       "    </tr>\n",
       "    <tr>\n",
       "      <th>16</th>\n",
       "      <td>(0, 3503)\\t0.112828118165562\\n  (0, 4849)\\t0...</td>\n",
       "    </tr>\n",
       "    <tr>\n",
       "      <th>17</th>\n",
       "      <td></td>\n",
       "    </tr>\n",
       "    <tr>\n",
       "      <th>18</th>\n",
       "      <td>(0, 2072)\\t0.07215218210379727\\n  (0, 2848)\\...</td>\n",
       "    </tr>\n",
       "    <tr>\n",
       "      <th>19</th>\n",
       "      <td>(0, 1519)\\t0.10229204349280374\\n  (0, 2495)\\...</td>\n",
       "    </tr>\n",
       "    <tr>\n",
       "      <th>20</th>\n",
       "      <td>(0, 3202)\\t0.03283007084141346\\n  (0, 2161)\\...</td>\n",
       "    </tr>\n",
       "    <tr>\n",
       "      <th>21</th>\n",
       "      <td>(0, 1537)\\t0.1093910559743883\\n  (0, 1255)\\t...</td>\n",
       "    </tr>\n",
       "    <tr>\n",
       "      <th>22</th>\n",
       "      <td>(0, 2730)\\t0.24887450136269504\\n  (0, 3001)\\...</td>\n",
       "    </tr>\n",
       "    <tr>\n",
       "      <th>23</th>\n",
       "      <td>(0, 2333)\\t0.6411932036166151\\n  (0, 1475)\\t...</td>\n",
       "    </tr>\n",
       "    <tr>\n",
       "      <th>24</th>\n",
       "      <td>(0, 821)\\t0.057391637798657316\\n  (0, 686)\\t...</td>\n",
       "    </tr>\n",
       "    <tr>\n",
       "      <th>25</th>\n",
       "      <td>(0, 4249)\\t0.028436056986681862\\n  (0, 2792)...</td>\n",
       "    </tr>\n",
       "    <tr>\n",
       "      <th>26</th>\n",
       "      <td>(0, 137)\\t0.21652755560691023\\n  (0, 1099)\\t...</td>\n",
       "    </tr>\n",
       "    <tr>\n",
       "      <th>27</th>\n",
       "      <td>(0, 1645)\\t0.16329143977237137\\n  (0, 4552)\\...</td>\n",
       "    </tr>\n",
       "    <tr>\n",
       "      <th>28</th>\n",
       "      <td>(0, 2576)\\t0.08216628825700906\\n  (0, 1115)\\...</td>\n",
       "    </tr>\n",
       "    <tr>\n",
       "      <th>29</th>\n",
       "      <td>(0, 3346)\\t0.14770308130131587\\n  (0, 3068)\\...</td>\n",
       "    </tr>\n",
       "    <tr>\n",
       "      <th>...</th>\n",
       "      <td>...</td>\n",
       "    </tr>\n",
       "    <tr>\n",
       "      <th>14307</th>\n",
       "      <td></td>\n",
       "    </tr>\n",
       "    <tr>\n",
       "      <th>14308</th>\n",
       "      <td>(0, 2495)\\t0.02491039706455137\\n  (0, 3131)\\...</td>\n",
       "    </tr>\n",
       "    <tr>\n",
       "      <th>14309</th>\n",
       "      <td>(0, 2495)\\t0.018214964967187653\\n  (0, 4755)...</td>\n",
       "    </tr>\n",
       "    <tr>\n",
       "      <th>14310</th>\n",
       "      <td>(0, 2327)\\t0.09242470324366113\\n  (0, 4256)\\...</td>\n",
       "    </tr>\n",
       "    <tr>\n",
       "      <th>14311</th>\n",
       "      <td>(0, 3001)\\t0.41654861327662035\\n  (0, 4074)\\...</td>\n",
       "    </tr>\n",
       "    <tr>\n",
       "      <th>14312</th>\n",
       "      <td>(0, 4878)\\t0.10526071397313405\\n  (0, 4411)\\...</td>\n",
       "    </tr>\n",
       "    <tr>\n",
       "      <th>14313</th>\n",
       "      <td></td>\n",
       "    </tr>\n",
       "    <tr>\n",
       "      <th>14314</th>\n",
       "      <td>(0, 2327)\\t0.0359335246252701\\n  (0, 1903)\\t...</td>\n",
       "    </tr>\n",
       "    <tr>\n",
       "      <th>14315</th>\n",
       "      <td>(0, 4411)\\t0.2652041821926619\\n  (0, 3146)\\t...</td>\n",
       "    </tr>\n",
       "    <tr>\n",
       "      <th>14316</th>\n",
       "      <td>(0, 3011)\\t0.11132407320335151\\n  (0, 1697)\\...</td>\n",
       "    </tr>\n",
       "    <tr>\n",
       "      <th>14317</th>\n",
       "      <td>(0, 515)\\t0.07225744951558465\\n  (0, 4770)\\t...</td>\n",
       "    </tr>\n",
       "    <tr>\n",
       "      <th>14318</th>\n",
       "      <td>(0, 1757)\\t0.2842249038042485\\n  (0, 3036)\\t...</td>\n",
       "    </tr>\n",
       "    <tr>\n",
       "      <th>14319</th>\n",
       "      <td>(0, 2186)\\t0.10037030293490738\\n  (0, 3542)\\...</td>\n",
       "    </tr>\n",
       "    <tr>\n",
       "      <th>14320</th>\n",
       "      <td>(0, 2730)\\t0.08326503809517975\\n  (0, 1378)\\...</td>\n",
       "    </tr>\n",
       "    <tr>\n",
       "      <th>14321</th>\n",
       "      <td>(0, 1903)\\t0.08716760275100605\\n  (0, 4249)\\...</td>\n",
       "    </tr>\n",
       "    <tr>\n",
       "      <th>14322</th>\n",
       "      <td></td>\n",
       "    </tr>\n",
       "    <tr>\n",
       "      <th>14323</th>\n",
       "      <td>(0, 1903)\\t0.06251609773460307\\n  (0, 4018)\\...</td>\n",
       "    </tr>\n",
       "    <tr>\n",
       "      <th>14324</th>\n",
       "      <td>(0, 3346)\\t0.17114753543507474\\n  (0, 2186)\\...</td>\n",
       "    </tr>\n",
       "    <tr>\n",
       "      <th>14325</th>\n",
       "      <td>(0, 2519)\\t0.26571123176948575\\n  (0, 2440)\\...</td>\n",
       "    </tr>\n",
       "    <tr>\n",
       "      <th>14326</th>\n",
       "      <td>(0, 1099)\\t0.288313187102013\\n  (0, 2031)\\t0...</td>\n",
       "    </tr>\n",
       "    <tr>\n",
       "      <th>14327</th>\n",
       "      <td>(0, 654)\\t0.03749701863994544\\n  (0, 821)\\t0...</td>\n",
       "    </tr>\n",
       "    <tr>\n",
       "      <th>14328</th>\n",
       "      <td>(0, 2327)\\t0.07718734184522111\\n  (0, 2211)\\...</td>\n",
       "    </tr>\n",
       "    <tr>\n",
       "      <th>14329</th>\n",
       "      <td>(0, 2327)\\t0.062860542583284\\n  (0, 2211)\\t0...</td>\n",
       "    </tr>\n",
       "    <tr>\n",
       "      <th>14330</th>\n",
       "      <td></td>\n",
       "    </tr>\n",
       "    <tr>\n",
       "      <th>14331</th>\n",
       "      <td>(0, 794)\\t0.05480157594427292\\n  (0, 3196)\\t...</td>\n",
       "    </tr>\n",
       "    <tr>\n",
       "      <th>14332</th>\n",
       "      <td>(0, 3346)\\t0.09506133145770503\\n  (0, 1697)\\...</td>\n",
       "    </tr>\n",
       "    <tr>\n",
       "      <th>14333</th>\n",
       "      <td>(0, 4018)\\t0.08624187021358366\\n  (0, 1099)\\...</td>\n",
       "    </tr>\n",
       "    <tr>\n",
       "      <th>14334</th>\n",
       "      <td>(0, 2319)\\t0.1291250787453507\\n  (0, 4249)\\t...</td>\n",
       "    </tr>\n",
       "    <tr>\n",
       "      <th>14335</th>\n",
       "      <td>(0, 1697)\\t0.10767168997989049\\n  (0, 3068)\\...</td>\n",
       "    </tr>\n",
       "    <tr>\n",
       "      <th>14336</th>\n",
       "      <td></td>\n",
       "    </tr>\n",
       "  </tbody>\n",
       "</table>\n",
       "<p>14337 rows × 1 columns</p>\n",
       "</div>"
      ],
      "text/plain": [
       "                                                       0\n",
       "0        (0, 3346)\\t0.21763636853334473\\n  (0, 1519)\\...\n",
       "1        (0, 4183)\\t0.1328751456087362\\n  (0, 3131)\\t...\n",
       "2        (0, 2327)\\t0.0393441727104301\\n  (0, 137)\\t0...\n",
       "3        (0, 2495)\\t0.04508205285404109\\n  (0, 2912)\\...\n",
       "4        (0, 3346)\\t0.03872670694611755\\n  (0, 4414)\\...\n",
       "5        (0, 2576)\\t0.2131311621866112\\n  (0, 1115)\\t...\n",
       "6                                                       \n",
       "7        (0, 3542)\\t0.09235887932213196\\n  (0, 1099)\\...\n",
       "8        (0, 1697)\\t0.07203120649169771\\n  (0, 1903)\\...\n",
       "9        (0, 3542)\\t0.09235887932213196\\n  (0, 1099)\\...\n",
       "10       (0, 1519)\\t0.0575760968906875\\n  (0, 1645)\\t...\n",
       "11       (0, 2072)\\t0.09689739493487798\\n  (0, 2848)\\...\n",
       "12       (0, 3202)\\t0.054038097103977806\\n  (0, 2327)...\n",
       "13       (0, 2848)\\t0.0358962375746544\\n  (0, 2440)\\t...\n",
       "14       (0, 2495)\\t0.045492203335051155\\n  (0, 3011)...\n",
       "15       (0, 3503)\\t0.112828118165562\\n  (0, 4849)\\t0...\n",
       "16       (0, 3503)\\t0.112828118165562\\n  (0, 4849)\\t0...\n",
       "17                                                      \n",
       "18       (0, 2072)\\t0.07215218210379727\\n  (0, 2848)\\...\n",
       "19       (0, 1519)\\t0.10229204349280374\\n  (0, 2495)\\...\n",
       "20       (0, 3202)\\t0.03283007084141346\\n  (0, 2161)\\...\n",
       "21       (0, 1537)\\t0.1093910559743883\\n  (0, 1255)\\t...\n",
       "22       (0, 2730)\\t0.24887450136269504\\n  (0, 3001)\\...\n",
       "23       (0, 2333)\\t0.6411932036166151\\n  (0, 1475)\\t...\n",
       "24       (0, 821)\\t0.057391637798657316\\n  (0, 686)\\t...\n",
       "25       (0, 4249)\\t0.028436056986681862\\n  (0, 2792)...\n",
       "26       (0, 137)\\t0.21652755560691023\\n  (0, 1099)\\t...\n",
       "27       (0, 1645)\\t0.16329143977237137\\n  (0, 4552)\\...\n",
       "28       (0, 2576)\\t0.08216628825700906\\n  (0, 1115)\\...\n",
       "29       (0, 3346)\\t0.14770308130131587\\n  (0, 3068)\\...\n",
       "...                                                  ...\n",
       "14307                                                   \n",
       "14308    (0, 2495)\\t0.02491039706455137\\n  (0, 3131)\\...\n",
       "14309    (0, 2495)\\t0.018214964967187653\\n  (0, 4755)...\n",
       "14310    (0, 2327)\\t0.09242470324366113\\n  (0, 4256)\\...\n",
       "14311    (0, 3001)\\t0.41654861327662035\\n  (0, 4074)\\...\n",
       "14312    (0, 4878)\\t0.10526071397313405\\n  (0, 4411)\\...\n",
       "14313                                                   \n",
       "14314    (0, 2327)\\t0.0359335246252701\\n  (0, 1903)\\t...\n",
       "14315    (0, 4411)\\t0.2652041821926619\\n  (0, 3146)\\t...\n",
       "14316    (0, 3011)\\t0.11132407320335151\\n  (0, 1697)\\...\n",
       "14317    (0, 515)\\t0.07225744951558465\\n  (0, 4770)\\t...\n",
       "14318    (0, 1757)\\t0.2842249038042485\\n  (0, 3036)\\t...\n",
       "14319    (0, 2186)\\t0.10037030293490738\\n  (0, 3542)\\...\n",
       "14320    (0, 2730)\\t0.08326503809517975\\n  (0, 1378)\\...\n",
       "14321    (0, 1903)\\t0.08716760275100605\\n  (0, 4249)\\...\n",
       "14322                                                   \n",
       "14323    (0, 1903)\\t0.06251609773460307\\n  (0, 4018)\\...\n",
       "14324    (0, 3346)\\t0.17114753543507474\\n  (0, 2186)\\...\n",
       "14325    (0, 2519)\\t0.26571123176948575\\n  (0, 2440)\\...\n",
       "14326    (0, 1099)\\t0.288313187102013\\n  (0, 2031)\\t0...\n",
       "14327    (0, 654)\\t0.03749701863994544\\n  (0, 821)\\t0...\n",
       "14328    (0, 2327)\\t0.07718734184522111\\n  (0, 2211)\\...\n",
       "14329    (0, 2327)\\t0.062860542583284\\n  (0, 2211)\\t0...\n",
       "14330                                                   \n",
       "14331    (0, 794)\\t0.05480157594427292\\n  (0, 3196)\\t...\n",
       "14332    (0, 3346)\\t0.09506133145770503\\n  (0, 1697)\\...\n",
       "14333    (0, 4018)\\t0.08624187021358366\\n  (0, 1099)\\...\n",
       "14334    (0, 2319)\\t0.1291250787453507\\n  (0, 4249)\\t...\n",
       "14335    (0, 1697)\\t0.10767168997989049\\n  (0, 3068)\\...\n",
       "14336                                                   \n",
       "\n",
       "[14337 rows x 1 columns]"
      ]
     },
     "execution_count": 160,
     "metadata": {},
     "output_type": "execute_result"
    }
   ],
   "source": [
    "# np.bincount(y)"
   ]
  },
  {
   "cell_type": "code",
   "execution_count": 83,
   "metadata": {},
   "outputs": [],
   "source": [
    "X = vectorize.fit_transform(df.description)\n",
    "y = df.fraud"
   ]
  },
  {
   "cell_type": "code",
   "execution_count": 27,
   "metadata": {},
   "outputs": [
    {
     "data": {
      "text/plain": [
       "RandomForestClassifier(bootstrap=True, class_weight=None, criterion='gini',\n",
       "            max_depth=5, max_features='auto', max_leaf_nodes=None,\n",
       "            min_impurity_decrease=0.0, min_impurity_split=None,\n",
       "            min_samples_leaf=1, min_samples_split=2,\n",
       "            min_weight_fraction_leaf=0.0, n_estimators=1000, n_jobs=-1,\n",
       "            oob_score=True, random_state=29, verbose=0, warm_start=False)"
      ]
     },
     "execution_count": 27,
     "metadata": {},
     "output_type": "execute_result"
    }
   ],
   "source": [
    "from sklearn.ensemble import RandomForestClassifier\n",
    "\n",
    "rf = RandomForestClassifier(n_estimators=1000, max_depth=5,\n",
    "                           random_state=29, oob_score=True, n_jobs=-1)\n",
    "rf.fit(X,y)"
   ]
  },
  {
   "cell_type": "code",
   "execution_count": 85,
   "metadata": {},
   "outputs": [
    {
     "name": "stdout",
     "output_type": "stream",
     "text": [
      "14337\n",
      "[13044  1293]\n"
     ]
    }
   ],
   "source": [
    "print(len(y))\n",
    "print(np.bincount(y))"
   ]
  },
  {
   "cell_type": "code",
   "execution_count": 89,
   "metadata": {},
   "outputs": [
    {
     "data": {
      "text/plain": [
       "'9.01862314291693 % of values are positive for fraud'"
      ]
     },
     "execution_count": 89,
     "metadata": {},
     "output_type": "execute_result"
    }
   ],
   "source": [
    "str(1293/14337 * 100) + ' % of values are positive for fraud'"
   ]
  },
  {
   "cell_type": "code",
   "execution_count": 28,
   "metadata": {},
   "outputs": [
    {
     "data": {
      "text/plain": [
       "0.9114180093464462"
      ]
     },
     "execution_count": 28,
     "metadata": {},
     "output_type": "execute_result"
    }
   ],
   "source": [
    "rf.oob_score_"
   ]
  },
  {
   "cell_type": "code",
   "execution_count": 93,
   "metadata": {},
   "outputs": [],
   "source": [
    "from sklearn.model_selection import train_test_split\n",
    "\n",
    "X_train, X_test, y_train, y_test = train_test_split(X, y, test_size=0.25, random_state=0)"
   ]
  },
  {
   "cell_type": "code",
   "execution_count": 142,
   "metadata": {},
   "outputs": [],
   "source": [
    "from sklearn.naive_bayes import BernoulliNB, GaussianNB, MultinomialNB"
   ]
  },
  {
   "cell_type": "code",
   "execution_count": 181,
   "metadata": {},
   "outputs": [
    {
     "data": {
      "text/plain": [
       "3371     Our special guest Ray Pennings is Senior Fello...\n",
       "6403     Professional Development\\n \\nAugust Technical ...\n",
       "4408     We are hosting an open bar Beverly Hills Pool ...\n",
       "2321     2013 NorthEast CS SoftDent Users\\n Study Club\\...\n",
       "10026             \\n \\nPlease join us for a benefit to ...\n",
       "8322     This is a fashion show to see the latest ideas...\n",
       "10910    On Saturday, July 20th DiversiTech hosts young...\n",
       "10914    The ServSafe® program provides food safety tra...\n",
       "3948     7:30 - 8:30 a.m. Registration/Breakfast\\n8:30 ...\n",
       "6734     London School of Business and Finance\\nSpecial...\n",
       "8819     Corps Bara Dance Theatre Presents:\\n\"Prodigal\"...\n",
       "12879    Have you inherited a Drupal site? You may be w...\n",
       "4542     Registration is now closed. Please contact Reb...\n",
       "10720    Dinner with Stacey Currie\\nTuesday 28 August, ...\n",
       "8724     \\nSaturday Oct 20th $40 6:30pm\\nI don't paint ...\n",
       "8327     Always wanted to write a book but don’t know w...\n",
       "3881     AGES: 21+ ONLY NO REFUNDS | ALL SALES FINAL\\nT...\n",
       "13525    1a & 1b Fundamentals for basic Refrigeration C...\n",
       "1820     Please join me for a night of fun at the Salem...\n",
       "1121                                                      \n",
       "3069     \\n\"The secret of life is in art\".  by Oscar Wi...\n",
       "3684     Course Agenda\\nFoursquare users \"check in\" to ...\n",
       "9108                                                      \n",
       "10568    Speaker: Tony Putsman of CT Technologies\\nMost...\n",
       "14154    Come learn from Eric Bandholz, a LinkedIn expe...\n",
       "2163     Theatre of the Dales present their 3rd year of...\n",
       "1465      \\n \\n\\nMinimum height requirement for most ri...\n",
       "3515                                                      \n",
       "6742     Join us the the Pressbox Pub for our 2013 New ...\n",
       "7098     *Director Tiffany Shlain will be conducting a ...\n",
       "                               ...                        \n",
       "6613     Minerals and Waste Developments: Streamlining ...\n",
       "11348     \\n\\nCocktails - 6pm - 7pm\\nShow - 7pm - 8:30p...\n",
       "2485     I'll surrender to every word you whisper, if y...\n",
       "14334    What a way to start off your Mother's Day ladi...\n",
       "2265     Email Marketing that Sells\\nJonathan Crossfiel...\n",
       "2814     Suffering from the Sugar Blues?\\nAre you const...\n",
       "11578    \\n\\nSunny Ridge Adoptive Parent/Toddler Play G...\n",
       "8276     LUNCHandLEADERS:  \\nWhat sustainability means ...\n",
       "1576     SATURDAY JANUARY 21, 2012\\nRoyal Palm Place Ja...\n",
       "416      Sola Voce presents Pergolesi's sublime Stabat ...\n",
       "11298    The best of Sydney's spoken word poetry + craf...\n",
       "14002    \\n* Note:  Room Change:  Event is located in P...\n",
       "3708     Southern Culture on the Skids - Long the bards...\n",
       "11884     \\n \\n\\n        \\nRed. Is. Coming. \\n \\nSound ...\n",
       "7606     Friday, January 13, 2012\\n8:00–9:00 AM\\nSchedu...\n",
       "4558      \\nNicole Bridger Designs is hosting the next ...\n",
       "7220     Starting a new business is like entering the f...\n",
       "12809    * Limited to first 30 attendee's & Must RSVP t...\n",
       "5927      \\nJoin us for the afternoon at The Business S...\n",
       "6359     In the main event, the Ring Warriors Grand Cha...\n",
       "3051     iOSDevCampCanada 2011July 15-17, 2011Mirego, Q...\n",
       "13375    Nappy Roots come to 1904 Music Hall May 17th\\n...\n",
       "8664     TODAY'S LIVE Conference Call is scheduled for ...\n",
       "7532     Getting started on Twitter\\n \\nIf you're inter...\n",
       "5723     Join us for another great year of creative cos...\n",
       "2289     The class is ideal for retailers in need of bo...\n",
       "4570                                                      \n",
       "11672    BIG RING CENTURY JERSEY SALE\\n A limited numbe...\n",
       "3841     A practical workshop on the purpose and proces...\n",
       "1118     Welcome to the \"Inaugural\" meeting for Souther...\n",
       "Name: description, Length: 10752, dtype: object"
      ]
     },
     "execution_count": 181,
     "metadata": {},
     "output_type": "execute_result"
    }
   ],
   "source": [
    "X_train"
   ]
  },
  {
   "cell_type": "code",
   "execution_count": 143,
   "metadata": {},
   "outputs": [
    {
     "data": {
      "text/plain": [
       "BernoulliNB(alpha=1.0, binarize=0.0, class_prior=None, fit_prior=True)"
      ]
     },
     "execution_count": 143,
     "metadata": {},
     "output_type": "execute_result"
    }
   ],
   "source": [
    "nb = BernoulliNB()\n",
    "nb.fit(X_train, y_train)"
   ]
  },
  {
   "cell_type": "code",
   "execution_count": 154,
   "metadata": {},
   "outputs": [],
   "source": [
    "y_pred= nb.predict(X_test)"
   ]
  },
  {
   "cell_type": "code",
   "execution_count": 145,
   "metadata": {},
   "outputs": [],
   "source": [
    "conf_mat = confusion_matrix(y_test, y_pred)"
   ]
  },
  {
   "cell_type": "code",
   "execution_count": 149,
   "metadata": {},
   "outputs": [
    {
     "data": {
      "text/plain": [
       "0.18214285714285713"
      ]
     },
     "execution_count": 149,
     "metadata": {},
     "output_type": "execute_result"
    }
   ],
   "source": [
    "precision_score(y_test,y_pred)"
   ]
  },
  {
   "cell_type": "code",
   "execution_count": 150,
   "metadata": {},
   "outputs": [
    {
     "data": {
      "text/plain": [
       "0.770392749244713"
      ]
     },
     "execution_count": 150,
     "metadata": {},
     "output_type": "execute_result"
    }
   ],
   "source": [
    "recall_score(y_test,y_pred)"
   ]
  },
  {
   "cell_type": "code",
   "execution_count": 169,
   "metadata": {},
   "outputs": [],
   "source": [
    "from sklearn.metrics import classification_report, confusion_matrix, accuracy_score, roc_auc_score, precision_score, recall_score, precision_recall_fscore_support, f1_score\n"
   ]
  },
  {
   "cell_type": "code",
   "execution_count": null,
   "metadata": {},
   "outputs": [],
   "source": []
  },
  {
   "cell_type": "code",
   "execution_count": null,
   "metadata": {},
   "outputs": [],
   "source": []
  },
  {
   "cell_type": "code",
   "execution_count": 151,
   "metadata": {},
   "outputs": [
    {
     "name": "stderr",
     "output_type": "stream",
     "text": [
      "/Users/claudiostaub/anaconda3/lib/python3.7/site-packages/sklearn/ensemble/forest.py:246: FutureWarning: The default value of n_estimators will change from 10 in version 0.20 to 100 in 0.22.\n",
      "  \"10 in version 0.20 to 100 in 0.22.\", FutureWarning)\n"
     ]
    },
    {
     "data": {
      "text/plain": [
       "RandomForestClassifier(bootstrap=True, class_weight=None, criterion='gini',\n",
       "            max_depth=None, max_features='auto', max_leaf_nodes=None,\n",
       "            min_impurity_decrease=0.0, min_impurity_split=None,\n",
       "            min_samples_leaf=1, min_samples_split=2,\n",
       "            min_weight_fraction_leaf=0.0, n_estimators=10, n_jobs=None,\n",
       "            oob_score=False, random_state=None, verbose=0,\n",
       "            warm_start=False)"
      ]
     },
     "execution_count": 151,
     "metadata": {},
     "output_type": "execute_result"
    }
   ],
   "source": [
    "rf = RandomForestClassifier()\n",
    "rf.fit(X_train, y_train)"
   ]
  },
  {
   "cell_type": "code",
   "execution_count": 155,
   "metadata": {},
   "outputs": [],
   "source": [
    "y_pred_rf = rf.predict(X_test)"
   ]
  },
  {
   "cell_type": "code",
   "execution_count": 156,
   "metadata": {},
   "outputs": [
    {
     "data": {
      "text/plain": [
       "array([[3237,   17],\n",
       "       [ 273,   58]])"
      ]
     },
     "execution_count": 156,
     "metadata": {},
     "output_type": "execute_result"
    }
   ],
   "source": [
    "confusion_matrix(y_test, y_pred_rf)"
   ]
  },
  {
   "cell_type": "code",
   "execution_count": 157,
   "metadata": {},
   "outputs": [
    {
     "data": {
      "text/plain": [
       "0.17522658610271905"
      ]
     },
     "execution_count": 157,
     "metadata": {},
     "output_type": "execute_result"
    }
   ],
   "source": [
    "recall_score(y_test, y_pred_rf)"
   ]
  },
  {
   "cell_type": "code",
   "execution_count": 158,
   "metadata": {},
   "outputs": [
    {
     "data": {
      "text/plain": [
       "0.7733333333333333"
      ]
     },
     "execution_count": 158,
     "metadata": {},
     "output_type": "execute_result"
    }
   ],
   "source": [
    "precision_score(y_test, y_pred_rf)"
   ]
  },
  {
   "cell_type": "code",
   "execution_count": 162,
   "metadata": {},
   "outputs": [],
   "source": [
    "from sklearn.ensemble import GradientBoostingClassifier\n"
   ]
  },
  {
   "cell_type": "code",
   "execution_count": 163,
   "metadata": {},
   "outputs": [
    {
     "data": {
      "text/plain": [
       "GradientBoostingClassifier(criterion='friedman_mse', init=None,\n",
       "              learning_rate=0.01, loss='deviance', max_depth=3,\n",
       "              max_features=None, max_leaf_nodes=None,\n",
       "              min_impurity_decrease=0.0, min_impurity_split=None,\n",
       "              min_samples_leaf=1, min_samples_split=2,\n",
       "              min_weight_fraction_leaf=0.0, n_estimators=100,\n",
       "              n_iter_no_change=None, presort='auto', random_state=0,\n",
       "              subsample=1.0, tol=0.0001, validation_fraction=0.1,\n",
       "              verbose=0, warm_start=False)"
      ]
     },
     "execution_count": 163,
     "metadata": {},
     "output_type": "execute_result"
    }
   ],
   "source": [
    "gbc = GradientBoostingClassifier(n_estimators=100, learning_rate=.01, \n",
    "                                max_depth=3, random_state=0)\n",
    "gbc.fit(X_train, y_train)"
   ]
  },
  {
   "cell_type": "code",
   "execution_count": 164,
   "metadata": {},
   "outputs": [],
   "source": [
    "y_pred_gbc = gbc.predict(X_test)"
   ]
  },
  {
   "cell_type": "code",
   "execution_count": 165,
   "metadata": {},
   "outputs": [
    {
     "data": {
      "text/plain": [
       "array([[3252,    2],\n",
       "       [ 320,   11]])"
      ]
     },
     "execution_count": 165,
     "metadata": {},
     "output_type": "execute_result"
    }
   ],
   "source": [
    "confusion_matrix(y_test, y_pred_gbc)"
   ]
  },
  {
   "cell_type": "code",
   "execution_count": 166,
   "metadata": {},
   "outputs": [
    {
     "data": {
      "text/plain": [
       "0.03323262839879154"
      ]
     },
     "execution_count": 166,
     "metadata": {},
     "output_type": "execute_result"
    }
   ],
   "source": [
    "recall_score(y_test, y_pred_gbc)"
   ]
  },
  {
   "cell_type": "code",
   "execution_count": 167,
   "metadata": {},
   "outputs": [
    {
     "data": {
      "text/plain": [
       "0.8461538461538461"
      ]
     },
     "execution_count": 167,
     "metadata": {},
     "output_type": "execute_result"
    }
   ],
   "source": [
    "precision_score(y_test, y_pred_gbc)"
   ]
  },
  {
   "cell_type": "code",
   "execution_count": 170,
   "metadata": {},
   "outputs": [
    {
     "data": {
      "text/plain": [
       "'              precision    recall  f1-score   support\\n\\n       False       0.91      1.00      0.95      3254\\n        True       0.85      0.03      0.06       331\\n\\n   micro avg       0.91      0.91      0.91      3585\\n   macro avg       0.88      0.52      0.51      3585\\nweighted avg       0.90      0.91      0.87      3585\\n'"
      ]
     },
     "execution_count": 170,
     "metadata": {},
     "output_type": "execute_result"
    }
   ],
   "source": [
    "classification_report(y_test, y_pred_gbc)"
   ]
  },
  {
   "cell_type": "code",
   "execution_count": null,
   "metadata": {},
   "outputs": [],
   "source": []
  },
  {
   "cell_type": "code",
   "execution_count": null,
   "metadata": {},
   "outputs": [],
   "source": [
    "from sklearn.linear_model import SGDClassifier\n",
    "sgd = P"
   ]
  }
 ],
 "metadata": {
  "kernelspec": {
   "display_name": "Python 3",
   "language": "python",
   "name": "python3"
  },
  "language_info": {
   "codemirror_mode": {
    "name": "ipython",
    "version": 3
   },
   "file_extension": ".py",
   "mimetype": "text/x-python",
   "name": "python",
   "nbconvert_exporter": "python",
   "pygments_lexer": "ipython3",
   "version": "3.7.3"
  }
 },
 "nbformat": 4,
 "nbformat_minor": 2
}
