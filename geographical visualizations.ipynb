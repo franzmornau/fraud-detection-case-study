{
 "cells": [
  {
   "cell_type": "code",
   "execution_count": 1,
   "metadata": {},
   "outputs": [
    {
     "name": "stdout",
     "output_type": "stream",
     "text": [
      "Requirement already satisfied: reverse_geocoder in /Users/karensheng/anaconda3/lib/python3.7/site-packages (1.5.1)\r\n",
      "Requirement already satisfied: scipy>=0.17.1 in /Users/karensheng/anaconda3/lib/python3.7/site-packages (from reverse_geocoder) (1.1.0)\r\n",
      "Requirement already satisfied: numpy>=1.11.0 in /Users/karensheng/anaconda3/lib/python3.7/site-packages (from reverse_geocoder) (1.16.4)\r\n"
     ]
    }
   ],
   "source": [
    "!pip install reverse_geocoder"
   ]
  },
  {
   "cell_type": "code",
   "execution_count": 2,
   "metadata": {},
   "outputs": [],
   "source": [
    "import pandas as pd\n",
    "\n",
    "import matplotlib.pyplot as plt\n",
    "import seaborn as sns\n",
    "\n",
    "import folium\n",
    "\n",
    "from folium.plugins import HeatMap\n",
    "from folium.plugins import FastMarkerCluster\n",
    "from folium.plugins import HeatMapWithTime\n",
    "\n",
    "from bs4 import BeautifulSoup\n",
    "\n",
    "import reverse_geocoder as rg \n",
    "import pprint \n",
    "import pickle\n"
   ]
  },
  {
   "cell_type": "code",
   "execution_count": 3,
   "metadata": {},
   "outputs": [],
   "source": [
    "# %load src/merging geospatial info.py\n",
    "\n",
    "\n",
    "import pandas as pd\n",
    "import pickle\n",
    "\n",
    "\n",
    "rg = pd.read_pickle('data/rg.pkl')\n",
    "\n",
    "get_ipython().run_line_magic('run', 'src/pipeline')\n",
    "D = FraudData('data/data.json')\n",
    "df = D.get_enriched_df()\n",
    "\n",
    "loc = df[['venue_latitude','venue_longitude','object_id']]\n",
    "loc = loc[~loc['venue_latitude'].isnull()]\n",
    "\n",
    "loc2 = loc.join(rg)\n",
    "loc3 = loc2.drop(['venue_latitude', 'venue_longitude'],axis = 1)\n",
    "df_geo = df.merge(loc3, how='left', right_on = 'object_id', left_on = 'object_id')\n",
    "\n",
    "\n",
    "\n"
   ]
  },
  {
   "cell_type": "code",
   "execution_count": 4,
   "metadata": {},
   "outputs": [],
   "source": [
    "df = df_geo.copy()"
   ]
  },
  {
   "cell_type": "markdown",
   "metadata": {},
   "source": [
    "#### Geographical visualization of all the events"
   ]
  },
  {
   "cell_type": "code",
   "execution_count": 5,
   "metadata": {},
   "outputs": [],
   "source": [
    "default_loc = df['venue_latitude'].mean(), df['venue_longitude'].mean()\n",
    "\n",
    "def generateBaseMap(default_location=default_loc, default_zoom_start= 3):\n",
    "    base_map = folium.Map(location=default_location, control_scale=True, zoom_start=default_zoom_start)\n",
    "    return base_map\n",
    "\n",
    "\n"
   ]
  },
  {
   "cell_type": "code",
   "execution_count": 6,
   "metadata": {},
   "outputs": [],
   "source": [
    "df_copy = df.copy()\n",
    "df_copy['count'] = 1\n",
    "base_map = generateBaseMap()\n",
    "HeatMap(data=df_copy[['venue_latitude', 'venue_longitude', 'count']].groupby(['venue_latitude', 'venue_longitude']).sum().reset_index().values.tolist(), radius=8, max_zoom=13).add_to(base_map)\n",
    "\n",
    "\n",
    "base_map.save('images/events_heatmap.html')"
   ]
  },
  {
   "cell_type": "code",
   "execution_count": 7,
   "metadata": {},
   "outputs": [
    {
     "data": {
      "text/plain": [
       "(13261, 65)"
      ]
     },
     "execution_count": 7,
     "metadata": {},
     "output_type": "execute_result"
    }
   ],
   "source": [
    "df2 = df_copy[~df_copy['venue_latitude'].isnull()]\n",
    "df2.shape"
   ]
  },
  {
   "cell_type": "code",
   "execution_count": 8,
   "metadata": {},
   "outputs": [],
   "source": [
    "lat = df2['venue_latitude'].tolist()\n",
    "lon = df2['venue_longitude'].tolist()\n",
    "locations = list(zip(lat, lon))\n",
    "\n",
    "map1 = folium.Map(location=default_loc, zoom_start=3)\n",
    "FastMarkerCluster(data=locations).add_to(map1)\n",
    "map1.save('images/events_ClusteredMarker.html')"
   ]
  },
  {
   "cell_type": "markdown",
   "metadata": {},
   "source": [
    "#### Geographical visualization of fraudulent events only"
   ]
  },
  {
   "cell_type": "code",
   "execution_count": 9,
   "metadata": {},
   "outputs": [
    {
     "data": {
      "text/plain": [
       "(1293, 64)"
      ]
     },
     "execution_count": 9,
     "metadata": {},
     "output_type": "execute_result"
    }
   ],
   "source": [
    "fraud_all = df.query('label == 1')\n",
    "fraud_all.shape"
   ]
  },
  {
   "cell_type": "code",
   "execution_count": 10,
   "metadata": {},
   "outputs": [
    {
     "data": {
      "text/plain": [
       "(923, 65)"
      ]
     },
     "execution_count": 10,
     "metadata": {},
     "output_type": "execute_result"
    }
   ],
   "source": [
    "fraud = df2.query('label == 1')\n",
    "fraud.shape\n",
    "\n",
    "# 70% of the fraudulent events have geo info."
   ]
  },
  {
   "cell_type": "code",
   "execution_count": 11,
   "metadata": {},
   "outputs": [
    {
     "name": "stderr",
     "output_type": "stream",
     "text": [
      "/Users/karensheng/anaconda3/lib/python3.7/site-packages/ipykernel_launcher.py:1: SettingWithCopyWarning: \n",
      "A value is trying to be set on a copy of a slice from a DataFrame.\n",
      "Try using .loc[row_indexer,col_indexer] = value instead\n",
      "\n",
      "See the caveats in the documentation: http://pandas.pydata.org/pandas-docs/stable/indexing.html#indexing-view-versus-copy\n",
      "  \"\"\"Entry point for launching an IPython kernel.\n"
     ]
    }
   ],
   "source": [
    "fraud['count'] = 1\n",
    "base_map = generateBaseMap()\n",
    "HeatMap(data=fraud[['venue_latitude', 'venue_longitude', 'count']].groupby(['venue_latitude', 'venue_longitude']).sum().reset_index().values.tolist(), radius=8, max_zoom=13).add_to(base_map)\n",
    "base_map.save('images/fraud_heatmap.html')"
   ]
  },
  {
   "cell_type": "code",
   "execution_count": 12,
   "metadata": {},
   "outputs": [],
   "source": [
    "lat = fraud['venue_latitude'].tolist()\n",
    "lon = fraud['venue_longitude'].tolist()\n",
    "locations = list(zip(lat, lon))\n",
    "\n",
    "map2 = folium.Map(location= default_loc, zoom_start= 3)\n",
    "FastMarkerCluster(data=locations).add_to(map2)\n",
    "map2.save('images/fraud_ClusteredMarker.html')"
   ]
  },
  {
   "cell_type": "markdown",
   "metadata": {},
   "source": [
    "#### Geographical Visualization with Popup"
   ]
  },
  {
   "cell_type": "code",
   "execution_count": 13,
   "metadata": {},
   "outputs": [],
   "source": [
    "# default_loc = df['venue_latitude'].mean(), df['venue_longitude'].mean()\n",
    "\n",
    "# def plot_station_counts(df):\n",
    "#     # generate a new map\n",
    "#     folium_map = folium.Map(location= default_loc,\n",
    "#                             zoom_start=13)\n",
    "                           \n",
    "\n",
    "#     # for each row in the data, add a cicle marker\n",
    "#     for index, row in df.iterrows():\n",
    "#         # calculate net departures\n",
    "# #         net_departures = (row[\"Departure Count\"]-row[\"Arrival Count\"])\n",
    "        \n",
    "#         # generate the popup message that is shown on click.\n",
    "#         popup_text = \"event name: {}<br> venue: {}<br> curreny: {}\"\n",
    "#         popup_text = popup_text.format(row[\"name\"],\n",
    "#                           row[\"venue_address\"],\n",
    "#                           row[\"currency\"])\n",
    "        \n",
    "#         # radius of circles\n",
    "#         radius = row['num_payouts']\n",
    "        \n",
    "#         # choose the color of the marker\n",
    "#         if row['label'] == 1:\n",
    "#             # color=\"#FFCE00\" # orange\n",
    "#             # color=\"#007849\" # green\n",
    "#             color=\"#E37222\" # tangerine\n",
    "#         else:\n",
    "#             # color=\"#0375B4\" # blue\n",
    "#             # color=\"#FFCE00\" # yellow            \n",
    "#             color=\"#0A8A9F\" # teal\n",
    "        \n",
    "#         # add marker to the map\n",
    "#         folium.CircleMarker(location=(row[\"venue_latitude\"],\n",
    "#                                       row[\"venue_longitude\"]),\n",
    "#                             radius=radius,\n",
    "#                             color=color,\n",
    "#                             popup=popup_text,\n",
    "#                             fill=True).add_to(folium_map)\n",
    "#     return folium_map"
   ]
  },
  {
   "cell_type": "code",
   "execution_count": 14,
   "metadata": {},
   "outputs": [],
   "source": [
    "# map_t = plot_station_counts(fraud)\n",
    "\n",
    "# map_t.save('images/fraud_map_test.html')"
   ]
  },
  {
   "cell_type": "code",
   "execution_count": 15,
   "metadata": {},
   "outputs": [],
   "source": [
    "\n",
    "# locationlist = fraud[[\"venue_latitude\",\"venue_longitude\"]].values.tolist()\n",
    "# labels = fraud[\"name\"].values.tolist()\n",
    "\n",
    "# # Create map and drop points onto it\n",
    "# m = folium.Map(location= default_loc, zoom_start=5)\n",
    "# for point in range(len(locationlist)):\n",
    "#     popup = folium.Popup(labels[point], parse_html=True)\n",
    "#     folium.Marker(locationlist[point], popup=popup).add_to(m)\n",
    "\n"
   ]
  },
  {
   "cell_type": "code",
   "execution_count": 16,
   "metadata": {},
   "outputs": [],
   "source": [
    "# m.save('images/fraud_ClusteredMarker_popup.html')"
   ]
  },
  {
   "cell_type": "code",
   "execution_count": 18,
   "metadata": {},
   "outputs": [
    {
     "name": "stdout",
     "output_type": "stream",
     "text": [
      "<class 'pandas.core.frame.DataFrame'>\n",
      "Int64Index: 923 entries, 0 to 14336\n",
      "Data columns (total 65 columns):\n",
      "acct_type             923 non-null object\n",
      "approx_payout_date    923 non-null int64\n",
      "body_length           923 non-null int64\n",
      "channels              923 non-null int64\n",
      "country               923 non-null object\n",
      "currency              923 non-null object\n",
      "delivery_method       911 non-null float64\n",
      "description           923 non-null object\n",
      "email_domain          923 non-null object\n",
      "event_created         923 non-null int64\n",
      "event_end             923 non-null int64\n",
      "event_published       901 non-null float64\n",
      "event_start           923 non-null int64\n",
      "fb_published          923 non-null int64\n",
      "gts                   923 non-null float64\n",
      "has_analytics         923 non-null int64\n",
      "has_header            391 non-null float64\n",
      "has_logo              923 non-null int64\n",
      "listed                923 non-null object\n",
      "name                  923 non-null object\n",
      "name_length           923 non-null int64\n",
      "num_order             923 non-null int64\n",
      "num_payouts           923 non-null int64\n",
      "object_id             923 non-null int64\n",
      "org_desc              923 non-null object\n",
      "org_facebook          897 non-null float64\n",
      "org_name              923 non-null object\n",
      "org_twitter           897 non-null float64\n",
      "payee_name            923 non-null object\n",
      "payout_type           923 non-null object\n",
      "previous_payouts      923 non-null object\n",
      "sale_duration         893 non-null float64\n",
      "sale_duration2        923 non-null int64\n",
      "show_map              923 non-null int64\n",
      "ticket_types          923 non-null object\n",
      "user_age              923 non-null int64\n",
      "user_created          923 non-null int64\n",
      "user_type             923 non-null int64\n",
      "venue_address         923 non-null object\n",
      "venue_country         923 non-null object\n",
      "venue_latitude        923 non-null float64\n",
      "venue_longitude       923 non-null float64\n",
      "venue_name            923 non-null object\n",
      "venue_state           923 non-null object\n",
      "label                 923 non-null bool\n",
      "user_creation_dt      923 non-null datetime64[ns]\n",
      "event_creation_dt     923 non-null datetime64[ns]\n",
      "uc_year               923 non-null int64\n",
      "uc_month              923 non-null int64\n",
      "uc_week               923 non-null int64\n",
      "uc_weekday            923 non-null int64\n",
      "uc_day                923 non-null int64\n",
      "uc_hour               923 non-null int64\n",
      "ec_year               923 non-null int64\n",
      "ec_month              923 non-null int64\n",
      "ec_week               923 non-null int64\n",
      "ec_weekday            923 non-null int64\n",
      "ec_day                923 non-null int64\n",
      "ec_hour               923 non-null int64\n",
      "user_event_delta      923 non-null float64\n",
      "city_std              862 non-null object\n",
      "admin1                862 non-null object\n",
      "admin2                862 non-null object\n",
      "country_std           862 non-null object\n",
      "count                 923 non-null int64\n",
      "dtypes: bool(1), datetime64[ns](2), float64(10), int64(31), object(21)\n",
      "memory usage: 469.6+ KB\n"
     ]
    }
   ],
   "source": [
    "fraud.info()"
   ]
  },
  {
   "cell_type": "markdown",
   "metadata": {},
   "source": [
    "#### Heatmap with Time"
   ]
  },
  {
   "cell_type": "code",
   "execution_count": 26,
   "metadata": {},
   "outputs": [
    {
     "name": "stderr",
     "output_type": "stream",
     "text": [
      "/Users/karensheng/anaconda3/lib/python3.7/site-packages/ipykernel_launcher.py:1: SettingWithCopyWarning: \n",
      "A value is trying to be set on a copy of a slice from a DataFrame.\n",
      "Try using .loc[row_indexer,col_indexer] = value instead\n",
      "\n",
      "See the caveats in the documentation: http://pandas.pydata.org/pandas-docs/stable/indexing.html#indexing-view-versus-copy\n",
      "  \"\"\"Entry point for launching an IPython kernel.\n"
     ]
    }
   ],
   "source": [
    "fraud['ec_mth_yr'] = pd.to_datetime(fraud.ec_year.astype(str) + '-' + fraud.ec_month.astype(str))"
   ]
  },
  {
   "cell_type": "code",
   "execution_count": 27,
   "metadata": {},
   "outputs": [
    {
     "data": {
      "text/plain": [
       "2013-09-01    68\n",
       "2012-10-01    52\n",
       "2012-03-01    51\n",
       "2012-11-01    50\n",
       "2012-12-01    44\n",
       "2013-08-01    42\n",
       "2013-01-01    40\n",
       "2013-07-01    40\n",
       "2012-04-01    39\n",
       "2013-06-01    36\n",
       "2012-05-01    35\n",
       "2012-06-01    33\n",
       "2012-09-01    29\n",
       "2012-07-01    27\n",
       "2012-02-01    26\n",
       "2013-03-01    25\n",
       "2013-02-01    22\n",
       "2011-12-01    20\n",
       "2013-04-01    19\n",
       "2011-02-01    18\n",
       "2011-01-01    18\n",
       "2011-05-01    17\n",
       "2011-04-01    17\n",
       "2011-07-01    17\n",
       "2012-08-01    17\n",
       "2011-08-01    16\n",
       "2013-05-01    14\n",
       "2013-10-01    13\n",
       "2012-01-01    13\n",
       "2011-03-01    11\n",
       "2011-06-01    11\n",
       "2011-09-01     6\n",
       "2011-11-01     6\n",
       "2008-03-01     6\n",
       "2011-10-01     5\n",
       "2007-02-01     3\n",
       "2009-03-01     3\n",
       "2010-02-01     3\n",
       "2009-11-01     3\n",
       "2010-05-01     1\n",
       "2010-12-01     1\n",
       "2010-11-01     1\n",
       "2010-08-01     1\n",
       "2010-07-01     1\n",
       "2009-10-01     1\n",
       "2010-01-01     1\n",
       "2010-09-01     1\n",
       "Name: ec_mth_yr, dtype: int64"
      ]
     },
     "execution_count": 27,
     "metadata": {},
     "output_type": "execute_result"
    }
   ],
   "source": [
    "fraud.ec_mth_yr.value_counts()"
   ]
  },
  {
   "cell_type": "code",
   "execution_count": 31,
   "metadata": {},
   "outputs": [],
   "source": [
    "event_dt_list = []\n",
    "for dt in fraud.ec_mth_yr.sort_values().unique():\n",
    "    event_dt_list.append(fraud.loc[fraud.ec_mth_yr == dt, ['venue_latitude', 'venue_longitude', 'count']].groupby(['venue_latitude', 'venue_longitude']).sum().reset_index().values.tolist())"
   ]
  },
  {
   "cell_type": "code",
   "execution_count": 32,
   "metadata": {},
   "outputs": [],
   "source": [
    "base_map = generateBaseMap()\n",
    "HeatMapWithTime(event_dt_list, radius=3, gradient={0.8: 'red'}, min_opacity=0.5, max_opacity=0.8, use_local_extrema=True).add_to(base_map)\n",
    "base_map.save('images/fraud_heatmap_time.html')\n",
    "\n"
   ]
  },
  {
   "cell_type": "code",
   "execution_count": 33,
   "metadata": {},
   "outputs": [
    {
     "data": {
      "text/html": [
       "<div style=\"width:100%;\"><div style=\"position:relative;width:100%;height:0;padding-bottom:60%;\"><iframe src=\"data:text/html;charset=utf-8;base64,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\" style=\"position:absolute;width:100%;height:100%;left:0;top:0;border:none !important;\" allowfullscreen webkitallowfullscreen mozallowfullscreen></iframe></div></div>"
      ],
      "text/plain": [
       "<folium.folium.Map at 0x1a7a128710>"
      ]
     },
     "execution_count": 33,
     "metadata": {},
     "output_type": "execute_result"
    }
   ],
   "source": [
    "base_map"
   ]
  },
  {
   "cell_type": "code",
   "execution_count": null,
   "metadata": {},
   "outputs": [],
   "source": []
  }
 ],
 "metadata": {
  "kernelspec": {
   "display_name": "Python 3",
   "language": "python",
   "name": "python3"
  },
  "language_info": {
   "codemirror_mode": {
    "name": "ipython",
    "version": 3
   },
   "file_extension": ".py",
   "mimetype": "text/x-python",
   "name": "python",
   "nbconvert_exporter": "python",
   "pygments_lexer": "ipython3",
   "version": "3.7.1"
  }
 },
 "nbformat": 4,
 "nbformat_minor": 2
}
