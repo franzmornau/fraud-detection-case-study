{
 "cells": [
  {
   "cell_type": "code",
   "execution_count": 601,
   "metadata": {},
   "outputs": [],
   "source": [
    "import pandas as pd\n",
    "import numpy as np\n",
    "import matplotlib.pyplot as plt\n",
    "import zipfile\n",
    "import seaborn\n",
    "from sklearn.linear_model import LogisticRegression\n",
    "from sklearn.ensemble import GradientBoostingClassifier\n",
    "from sklearn.metrics import roc_curve, precision_score, recall_score\n",
    "from imblearn.over_sampling import SMOTE\n",
    "import pickle\n",
    "import psycopg2\n",
    "\n",
    "from src.plot_confusion_matrix import plot_confusion_matrix\n",
    "%matplotlib inline\n",
    "pd.options.display.max_colwidth = 50"
   ]
  },
  {
   "cell_type": "code",
   "execution_count": 539,
   "metadata": {},
   "outputs": [],
   "source": [
    "# Helper Functions\n",
    "\n",
    "def score_model(model, X_test, y_test, threshold = .5):\n",
    "    probs = model.predict_proba(X_test)[:, 1]\n",
    "    preds = probs.copy()\n",
    "    preds[preds>=threshold] = 1\n",
    "    preds[preds<threshold] = 0\n",
    "    results = np.empty(preds.shape)\n",
    "#     roc_curve(y_test, preds)\n",
    "    precision = precision_score(y_test, preds)\n",
    "    recall = recall_score(y_test, preds)\n",
    "    accuracy = model.score(X_test, y_test)\n",
    "    print('Precision: {:.2f}\\nRecall: {:.2f}\\nAccuracy: {:.2f}\\nThreshold: {:.2f}'.format(precision, recall, accuracy, threshold))\n",
    "    \n",
    "def smote_split():\n",
    "#     print(\"Before OverSampling, counts of label '1': {}\".format(sum(y_train==1)))\n",
    "#     print(\"Before OverSampling, counts of label '0': {} \\n\".format(sum(y_train==0)))\n",
    "\n",
    "    sm = SMOTE(random_state=2)\n",
    "    X_train_res, y_train_res = sm.fit_sample(X_train, y_train.ravel())\n",
    "\n",
    "\n",
    "#     print('After OverSampling, the shape of train_X: {}'.format(X_train_res.shape))\n",
    "#     print('After OverSampling, the shape of train_y: {} \\n'.format(y_train_res.shape))\n",
    "\n",
    "#     print(\"After OverSampling, counts of label '1': {}\".format(sum(y_train_res==1)))\n",
    "#     print(\"After OverSampling, counts of label '0': {}\".format(sum(y_train_res==0)))\n",
    "\n",
    "    return X_train_res, y_train_res"
   ]
  },
  {
   "cell_type": "markdown",
   "metadata": {},
   "source": [
    "# Load Data"
   ]
  },
  {
   "cell_type": "code",
   "execution_count": 4,
   "metadata": {},
   "outputs": [],
   "source": [
    "# Unzip data and put contents into the main data folder of repo\n",
    "with zipfile.ZipFile('./data/data.zip', 'r') as zip_ref:\n",
    "    zip_ref.extractall('data/')"
   ]
  },
  {
   "cell_type": "code",
   "execution_count": 540,
   "metadata": {},
   "outputs": [],
   "source": [
    "# Load json data file into Pandas Dataframe\n",
    "df = pd.read_json('./data/data.json')"
   ]
  },
  {
   "cell_type": "markdown",
   "metadata": {},
   "source": [
    "# Initial EDA\n",
    "\n",
    "### Initial Takeaways\n",
    "* 9.91% of the data was fraud\n",
    "#### Currency\n",
    "* All events of currency for MXC and NZD were fraud\n",
    "#### User Type\n",
    "* User type of 1 had more fraud than others, User type of 2 was all fraud (1 user)\n",
    "* Most of the fraud events were user type 1 (about 900 out of about 1200)\n",
    "#### Body Length\n",
    "* Percent of body length 0 w/ fraud: 39.81%\n",
    "* Percent of non fraud with body length 0: 60.19%\n",
    "* Percent of fraud w/ body length 0: 25.52%\n",
    "* Percent of non fraud with body length 0: 3.83%\n",
    "\n",
    "#### Name Length\n",
    "* At first glance, name length appears to show signal with quite different means, but they're actually within 1 STD of each other so there is not signal. \n",
    "* Plot shows this nicely"
   ]
  },
  {
   "cell_type": "code",
   "execution_count": 541,
   "metadata": {},
   "outputs": [],
   "source": [
    "# Declare what is fraud based on account type\n",
    "df['fraud'] = df['acct_type'].isin(['fraudster', 'fraudster_event', 'fraudster_att'])*1"
   ]
  },
  {
   "cell_type": "code",
   "execution_count": 230,
   "metadata": {},
   "outputs": [
    {
     "name": "stdout",
     "output_type": "stream",
     "text": [
      "There were 1293 cases of fraud out of 14337 total records.\n",
      "Fraud Percent = 9.02%\n"
     ]
    }
   ],
   "source": [
    "print('There were {} cases of fraud out of {} total records.\\nFraud Percent = {:.2f}%'.format(np.sum(df.fraud == 1), len(df.fraud), np.sum(df.fraud == 1)*100/len(df.fraud)))\n"
   ]
  },
  {
   "cell_type": "code",
   "execution_count": 165,
   "metadata": {},
   "outputs": [
    {
     "name": "stdout",
     "output_type": "stream",
     "text": [
      "Percent of body length 0 w/ fraud: 39.81%\n",
      "Percent of non fraud with body length 0: 60.19%\n",
      "Percent of fraud w/ body length 0: 25.52%\n",
      "Percent of non fraud with body length 0: 3.83%\n"
     ]
    }
   ],
   "source": [
    "body_length_fraud = np.sum(df[df.body_length==0].fraud)\n",
    "body_length_not_fraud = np.sum(df.body_length==0)-body_length_fraud\n",
    "body_length_0 = len(df[df.body_length==0])\n",
    "total_fraud = np.sum(df.fraud)\n",
    "total_not_fraud = len(df.fraud) - total_fraud\n",
    "print('Percent of body length 0 w/ fraud: {:.2f}%\\nPercent of non fraud with body length 0: {:.2f}%'.format(body_length_fraud*100/body_length_0, body_length_not_fraud*100/body_length_0))\n",
    "print('Percent of fraud w/ body length 0: {:.2f}%\\nPercent of non fraud with body length 0: {:.2f}%'.format(body_length_fraud*100/total_fraud, body_length_not_fraud*100/total_not_fraud))\n"
   ]
  },
  {
   "cell_type": "code",
   "execution_count": 247,
   "metadata": {},
   "outputs": [
    {
     "data": {
      "text/plain": [
       "fraud\n",
       "False    42.784575\n",
       "True     29.975251\n",
       "Name: name_length, dtype: float64"
      ]
     },
     "execution_count": 247,
     "metadata": {},
     "output_type": "execute_result"
    }
   ],
   "source": [
    "# Looking at mean values against fraud for signal\n",
    "df.groupby(df.fraud==1).mean()['name_length']\n",
    "\n",
    "#appears to be signal in \n",
    "# channels, delivery_method, body length, fb_published, gts, org_twitter, has_header, has_logo, \n",
    "\n",
    "# likely leakers\n",
    "# sale duration, user_age, user_type"
   ]
  },
  {
   "cell_type": "code",
   "execution_count": 373,
   "metadata": {},
   "outputs": [
    {
     "data": {
      "text/plain": [
       "11225     8\n",
       "7203      4\n",
       "6137      6\n",
       "3202     11\n",
       "6850      0\n",
       "11599     0\n",
       "8745      5\n",
       "4838     11\n",
       "9504      0\n",
       "6439      8\n",
       "Name: channels, dtype: int64"
      ]
     },
     "execution_count": 373,
     "metadata": {},
     "output_type": "execute_result"
    }
   ],
   "source": [
    "df[df.fraud==0].sample(10)['channels']"
   ]
  },
  {
   "cell_type": "code",
   "execution_count": 396,
   "metadata": {},
   "outputs": [],
   "source": [
    "def plot_distributions(feature_name, limit = None):\n",
    "    \n",
    "\n",
    "    # Take a sample from non-fraud so that peaks are more comparable\n",
    "    non_fraud = pd.Series(np.random.choice(df[feature_name][df.fraud==0], 1400))\n",
    "\n",
    "    fraud = df[feature_name][df.fraud==1]\n",
    "    fraud.hist(bins = 30, label = 'Fraud')\n",
    "    non_fraud.hist(bins = 30, label = 'Not Fraud', alpha = .5)\n",
    "    plt.suptitle(\"{} Distributions\".format(feature_name))\n",
    "    plt.xlabel(feature_name)\n",
    "    plt.ylabel('Count')\n",
    "    plt.legend()\n",
    "    if limit is not None:\n",
    "        plt.xlim(0, limit)"
   ]
  },
  {
   "cell_type": "code",
   "execution_count": 397,
   "metadata": {},
   "outputs": [
    {
     "data": {
      "image/png": "[encoded data removed]",
      "text/plain": [
       "<Figure size 432x288 with 1 Axes>"
      ]
     },
     "metadata": {
      "needs_background": "light"
     },
     "output_type": "display_data"
    }
   ],
   "source": [
    "plot_distributions('gts', 20000)"
   ]
  },
  {
   "cell_type": "code",
   "execution_count": 232,
   "metadata": {},
   "outputs": [
    {
     "data": {
      "text/plain": [
       "Index(['acct_type', 'approx_payout_date', 'body_length', 'channels', 'country',\n",
       "       'currency', 'delivery_method', 'description', 'email_domain',\n",
       "       'event_created', 'event_end', 'event_published', 'event_start',\n",
       "       'fb_published', 'gts', 'has_analytics', 'has_header', 'has_logo',\n",
       "       'listed', 'name', 'name_length', 'num_order', 'num_payouts',\n",
       "       'object_id', 'org_desc', 'org_facebook', 'org_name', 'org_twitter',\n",
       "       'payee_name', 'payout_type', 'previous_payouts', 'sale_duration',\n",
       "       'sale_duration2', 'show_map', 'ticket_types', 'user_age',\n",
       "       'user_created', 'user_type', 'venue_address', 'venue_country',\n",
       "       'venue_latitude', 'venue_longitude', 'venue_name', 'venue_state',\n",
       "       'fraud'],\n",
       "      dtype='object')"
      ]
     },
     "execution_count": 232,
     "metadata": {},
     "output_type": "execute_result"
    }
   ],
   "source": [
    "df.columns"
   ]
  },
  {
   "cell_type": "code",
   "execution_count": 398,
   "metadata": {},
   "outputs": [
    {
     "name": "stdout",
     "output_type": "stream",
     "text": [
      "1911.2143619489577\n",
      "4637.99166684837\n",
      "2481.679602115906\n",
      "9470.949208526292\n"
     ]
    }
   ],
   "source": [
    "# Plot the distribution of fraud vs non-fraud for a feature \n",
    "mu_fraud = np.mean(df['gts'][df.fraud==1])\n",
    "std_fraud = np.std(df['gts'][df.fraud==1])\n",
    "mu_non_fraud = np.mean(df['gts'][df.fraud==0])\n",
    "std_non_fraud = np.std(df['gts'][df.fraud==0])\n",
    "print(mu_fraud)\n",
    "print(std_fraud)\n",
    "print(mu_non_fraud)\n",
    "print(std_non_fraud)"
   ]
  },
  {
   "cell_type": "code",
   "execution_count": 100,
   "metadata": {},
   "outputs": [
    {
     "data": {
      "text/plain": [
       "array([<matplotlib.axes._subplots.AxesSubplot object at 0x122ad9278>,\n",
       "       <matplotlib.axes._subplots.AxesSubplot object at 0x122cda978>],\n",
       "      dtype=object)"
      ]
     },
     "execution_count": 100,
     "metadata": {},
     "output_type": "execute_result"
    },
    {
     "data": {
      "image/png": "[encoded data removed]",
      "text/plain": [
       "<Figure size 432x288 with 2 Axes>"
      ]
     },
     "metadata": {
      "needs_background": "light"
     },
     "output_type": "display_data"
    }
   ],
   "source": [
    "df.fraud.hist(df['body_length'].between(0, 1000))"
   ]
  },
  {
   "cell_type": "code",
   "execution_count": 228,
   "metadata": {},
   "outputs": [
    {
     "data": {
      "image/png": "[encoded data removed]",
      "text/plain": [
       "<Figure size 720x432 with 2 Axes>"
      ]
     },
     "metadata": {
      "needs_background": "light"
     },
     "output_type": "display_data"
    }
   ],
   "source": [
    "pd.set_option('mode.chained_assignment', None)\n",
    "\n",
    "axes = df.fraud.hist(df['body_length']==0, figsize = (10, 6))\n",
    "for idx, ax in enumerate(axes):\n",
    "    if idx == 0:\n",
    "        title = 'Body Length Greater than 0'\n",
    "    else:\n",
    "        title = 'Body Length Equal to 0'\n",
    "    ax.set_title(title)\n",
    "    ax.set_xlabel('Not Fraud                                           Fraud')\n",
    "    ax.set_ylabel('Count')\n",
    "    ax.set_xticklabels([])"
   ]
  },
  {
   "cell_type": "code",
   "execution_count": 368,
   "metadata": {},
   "outputs": [
    {
     "data": {
      "text/plain": [
       "<matplotlib.axes._subplots.AxesSubplot at 0x12e76a208>"
      ]
     },
     "execution_count": 368,
     "metadata": {},
     "output_type": "execute_result"
    },
    {
     "data": {
      "image/png": "[encoded data removed]",
      "text/plain": [
       "<Figure size 432x288 with 1 Axes>"
      ]
     },
     "metadata": {
      "needs_background": "light"
     },
     "output_type": "display_data"
    }
   ],
   "source": [
    "df.body_length[df.fraud==1][df.body_length<1000].hist(bins = 30)"
   ]
  },
  {
   "cell_type": "code",
   "execution_count": 367,
   "metadata": {},
   "outputs": [
    {
     "data": {
      "text/plain": [
       "<matplotlib.axes._subplots.AxesSubplot at 0x12e892eb8>"
      ]
     },
     "execution_count": 367,
     "metadata": {},
     "output_type": "execute_result"
    },
    {
     "data": {
      "image/png": "[encoded data removed]",
      "text/plain": [
       "<Figure size 432x288 with 1 Axes>"
      ]
     },
     "metadata": {
      "needs_background": "light"
     },
     "output_type": "display_data"
    }
   ],
   "source": [
    "df.body_length[df.fraud==0][df.body_length<1000].hist(bins = 30)"
   ]
  },
  {
   "cell_type": "code",
   "execution_count": null,
   "metadata": {},
   "outputs": [],
   "source": []
  },
  {
   "cell_type": "code",
   "execution_count": null,
   "metadata": {},
   "outputs": [],
   "source": []
  },
  {
   "cell_type": "code",
   "execution_count": null,
   "metadata": {},
   "outputs": [],
   "source": []
  },
  {
   "cell_type": "code",
   "execution_count": 86,
   "metadata": {},
   "outputs": [
    {
     "data": {
      "text/plain": [
       "<matplotlib.axes._subplots.AxesSubplot at 0x1c387dac8>"
      ]
     },
     "execution_count": 86,
     "metadata": {},
     "output_type": "execute_result"
    },
    {
     "data": {
      "image/png": "[encoded data removed]",
      "text/plain": [
       "<Figure size 432x288 with 1 Axes>"
      ]
     },
     "metadata": {
      "needs_background": "light"
     },
     "output_type": "display_data"
    }
   ],
   "source": [
    "df.body_length[df['body_length']<20000].hist(bins = 20)"
   ]
  },
  {
   "cell_type": "code",
   "execution_count": null,
   "metadata": {},
   "outputs": [],
   "source": [
    "# Clean outliers for user_type\n",
    "df.user_type[df.user_type >= 5] = 4"
   ]
  },
  {
   "cell_type": "code",
   "execution_count": 76,
   "metadata": {},
   "outputs": [
    {
     "data": {
      "text/plain": [
       "1293"
      ]
     },
     "execution_count": 76,
     "metadata": {},
     "output_type": "execute_result"
    }
   ],
   "source": []
  },
  {
   "cell_type": "code",
   "execution_count": 57,
   "metadata": {},
   "outputs": [
    {
     "data": {
      "text/plain": [
       "array([[<matplotlib.axes._subplots.AxesSubplot object at 0x1a111c198>]],\n",
       "      dtype=object)"
      ]
     },
     "execution_count": 57,
     "metadata": {},
     "output_type": "execute_result"
    },
    {
     "data": {
      "image/png": "[encoded data removed]",
      "text/plain": [
       "<Figure size 432x288 with 1 Axes>"
      ]
     },
     "metadata": {
      "needs_background": "light"
     },
     "output_type": "display_data"
    }
   ],
   "source": [
    "# check if user type has bearing on fraud\n",
    "df.hist('user_type')"
   ]
  },
  {
   "cell_type": "code",
   "execution_count": 61,
   "metadata": {},
   "outputs": [
    {
     "data": {
      "text/plain": [
       "array([<matplotlib.axes._subplots.AxesSubplot object at 0x1a235eac8>,\n",
       "       <matplotlib.axes._subplots.AxesSubplot object at 0x1a2c30da0>],\n",
       "      dtype=object)"
      ]
     },
     "execution_count": 61,
     "metadata": {},
     "output_type": "execute_result"
    },
    {
     "data": {
      "image/png": "[encoded data removed]",
      "text/plain": [
       "<Figure size 432x288 with 2 Axes>"
      ]
     },
     "metadata": {
      "needs_background": "light"
     },
     "output_type": "display_data"
    }
   ],
   "source": [
    "df.fraud.hist(df['user_type'] == 1)"
   ]
  },
  {
   "cell_type": "code",
   "execution_count": 62,
   "metadata": {},
   "outputs": [
    {
     "data": {
      "text/plain": [
       "array([<matplotlib.axes._subplots.AxesSubplot object at 0x1a5462eb8>,\n",
       "       <matplotlib.axes._subplots.AxesSubplot object at 0x1a56d0588>],\n",
       "      dtype=object)"
      ]
     },
     "execution_count": 62,
     "metadata": {},
     "output_type": "execute_result"
    },
    {
     "data": {
      "image/png": "[encoded data removed]",
      "text/plain": [
       "<Figure size 432x288 with 2 Axes>"
      ]
     },
     "metadata": {
      "needs_background": "light"
     },
     "output_type": "display_data"
    }
   ],
   "source": [
    "df.fraud.hist(df['user_type'] == 2)"
   ]
  },
  {
   "cell_type": "code",
   "execution_count": 63,
   "metadata": {},
   "outputs": [
    {
     "data": {
      "text/plain": [
       "array([<matplotlib.axes._subplots.AxesSubplot object at 0x1a73d4940>,\n",
       "       <matplotlib.axes._subplots.AxesSubplot object at 0x1a7dba358>],\n",
       "      dtype=object)"
      ]
     },
     "execution_count": 63,
     "metadata": {},
     "output_type": "execute_result"
    },
    {
     "data": {
      "image/png": "[encoded data removed]",
      "text/plain": [
       "<Figure size 432x288 with 2 Axes>"
      ]
     },
     "metadata": {
      "needs_background": "light"
     },
     "output_type": "display_data"
    }
   ],
   "source": [
    "df.fraud.hist(df['user_type'] == 3)"
   ]
  },
  {
   "cell_type": "code",
   "execution_count": 64,
   "metadata": {},
   "outputs": [
    {
     "data": {
      "text/plain": [
       "array([<matplotlib.axes._subplots.AxesSubplot object at 0x1a8814400>,\n",
       "       <matplotlib.axes._subplots.AxesSubplot object at 0x1a9fe2080>],\n",
       "      dtype=object)"
      ]
     },
     "execution_count": 64,
     "metadata": {},
     "output_type": "execute_result"
    },
    {
     "data": {
      "image/png": "[encoded data removed]",
      "text/plain": [
       "<Figure size 432x288 with 2 Axes>"
      ]
     },
     "metadata": {
      "needs_background": "light"
     },
     "output_type": "display_data"
    }
   ],
   "source": [
    "df.fraud.hist(df['user_type'] == 4)"
   ]
  },
  {
   "cell_type": "markdown",
   "metadata": {},
   "source": [
    "# Data Pipeline Snippets"
   ]
  },
  {
   "cell_type": "code",
   "execution_count": 366,
   "metadata": {},
   "outputs": [],
   "source": [
    "def _add_body_length_columns(self):\n",
    "    self.DF['body_length_0'] = (self.DF['body_length'] == 0)*1\n",
    "    self.DF['body_length_100'] = self.DF['body_length'].between(1, 100)*1\n",
    "    self.DF['body_length_200'] = self.DF['body_length'].between(101, 200)*1\n",
    "    self.DF['body_length_long'] = (self.DF['body_length']>200)*1"
   ]
  },
  {
   "cell_type": "code",
   "execution_count": 384,
   "metadata": {},
   "outputs": [],
   "source": [
    "df['channel_0'] = (df['channels'] == 0)*1\n",
    "df['channel_8'] = (df['channels'] == 8)*1\n",
    "df['channel_other'] = (~df['channels'].isin([0, 8]))*1"
   ]
  },
  {
   "cell_type": "code",
   "execution_count": 542,
   "metadata": {},
   "outputs": [
    {
     "data": {
      "image/png": "[encoded data removed]",
      "text/plain": [
       "<Figure size 432x288 with 1 Axes>"
      ]
     },
     "metadata": {
      "needs_background": "light"
     },
     "output_type": "display_data"
    }
   ],
   "source": [
    "plot_distributions('user_type')"
   ]
  },
  {
   "cell_type": "code",
   "execution_count": 543,
   "metadata": {},
   "outputs": [],
   "source": [
    "df['user_type_1'] = (df['user_type']==1)*1\n",
    "df['user_type_2'] = (df['user_type']==2)*1\n",
    "df['user_type_3'] = (df['user_type']==3)*1\n",
    "df['user_type_4'] = (df['user_type']==4)*1"
   ]
  },
  {
   "cell_type": "code",
   "execution_count": null,
   "metadata": {},
   "outputs": [],
   "source": []
  },
  {
   "cell_type": "code",
   "execution_count": null,
   "metadata": {},
   "outputs": [],
   "source": []
  },
  {
   "cell_type": "markdown",
   "metadata": {},
   "source": [
    "# Modeling"
   ]
  },
  {
   "cell_type": "code",
   "execution_count": 753,
   "metadata": {},
   "outputs": [],
   "source": [
    "%run src/pipeline"
   ]
  },
  {
   "cell_type": "code",
   "execution_count": 756,
   "metadata": {},
   "outputs": [],
   "source": [
    "# Read data from file:\n",
    "D = FraudData('data/data.json')\n",
    "df = D.get_enriched_df()"
   ]
  },
  {
   "cell_type": "code",
   "execution_count": 757,
   "metadata": {},
   "outputs": [
    {
     "data": {
      "text/plain": [
       "Index(['AUD', 'CAD', 'EUR', 'GBP', 'MXN', 'NZD', 'USD', 'body_length_0',\n",
       "       'body_length_100', 'body_length_200', 'body_length_long', 'channel_0',\n",
       "       'channel_8', 'channel_other', 'user_type_1', 'user_type_2',\n",
       "       'user_type_3', 'user_type_4', 'cost min', 'cost max',\n",
       "       'quantity_total sum', 'ticket_tiers_num'],\n",
       "      dtype='object')"
      ]
     },
     "execution_count": 757,
     "metadata": {},
     "output_type": "execute_result"
    }
   ],
   "source": [
    "X_train, X_test, y_train, y_test = D.get_train_test_data()\n",
    "X_train.columns"
   ]
  },
  {
   "cell_type": "code",
   "execution_count": 708,
   "metadata": {},
   "outputs": [],
   "source": [
    "# X_train.drop(columns = 'label', inplace = True)\n",
    "# X_test.drop(columns = 'label', inplace = True)"
   ]
  },
  {
   "cell_type": "code",
   "execution_count": 754,
   "metadata": {},
   "outputs": [],
   "source": [
    "resp = pd.read_pickle('data/response.pkl')\n",
    "real_data = preprocessing(resp)"
   ]
  },
  {
   "cell_type": "code",
   "execution_count": 755,
   "metadata": {},
   "outputs": [
    {
     "data": {
      "text/plain": [
       "array([0, 0, 0, 0, 0, 0, 0, 0, 0, 0])"
      ]
     },
     "execution_count": 755,
     "metadata": {},
     "output_type": "execute_result"
    }
   ],
   "source": [
    "predictions = lr.predict(real_data)\n",
    "predictions"
   ]
  },
  {
   "cell_type": "markdown",
   "metadata": {},
   "source": [
    "### Logistic Regression - No Regularization No sample adjustment"
   ]
  },
  {
   "cell_type": "code",
   "execution_count": 710,
   "metadata": {},
   "outputs": [
    {
     "name": "stderr",
     "output_type": "stream",
     "text": [
      "/Users/tylerpreston/anaconda3/lib/python3.7/site-packages/sklearn/linear_model/logistic.py:433: FutureWarning: Default solver will be changed to 'lbfgs' in 0.22. Specify a solver to silence this warning.\n",
      "  FutureWarning)\n"
     ]
    },
    {
     "name": "stdout",
     "output_type": "stream",
     "text": [
      "Precision: 0.52\n",
      "Recall: 0.44\n",
      "Accuracy: 0.92\n",
      "Threshold: 0.30\n"
     ]
    }
   ],
   "source": [
    "lr = LogisticRegression()\n",
    "lr.fit(X_train, y_train)\n",
    "score_model(lr, X_test, y_test, .3)"
   ]
  },
  {
   "cell_type": "code",
   "execution_count": 774,
   "metadata": {},
   "outputs": [],
   "source": [
    "pickle.dump(lr, open('website/lr_model.pkl','wb'))"
   ]
  },
  {
   "cell_type": "markdown",
   "metadata": {},
   "source": [
    "# Logistic Regression - Oversample \n",
    "* Model coefficients are reasonably small and of similar magnitude so regularization would not be expected to yield value"
   ]
  },
  {
   "cell_type": "code",
   "execution_count": 711,
   "metadata": {},
   "outputs": [
    {
     "name": "stdout",
     "output_type": "stream",
     "text": [
      "Precision: 0.10\n",
      "Recall: 0.99\n",
      "Accuracy: 0.89\n",
      "Threshold: 0.30\n"
     ]
    },
    {
     "name": "stderr",
     "output_type": "stream",
     "text": [
      "/Users/tylerpreston/anaconda3/lib/python3.7/site-packages/sklearn/linear_model/logistic.py:433: FutureWarning: Default solver will be changed to 'lbfgs' in 0.22. Specify a solver to silence this warning.\n",
      "  FutureWarning)\n"
     ]
    }
   ],
   "source": [
    "X_train_smote, y_train_smote = smote_split()\n",
    "lro = LogisticRegression()\n",
    "lro.fit(X_train_smote, y_train_smote)\n",
    "score_model(lro, X_test, y_test, .3)"
   ]
  },
  {
   "cell_type": "markdown",
   "metadata": {},
   "source": [
    "# Gradient Boosting"
   ]
  },
  {
   "cell_type": "code",
   "execution_count": 758,
   "metadata": {},
   "outputs": [
    {
     "data": {
      "text/plain": [
       "GradientBoostingClassifier(criterion='friedman_mse', init=None,\n",
       "              learning_rate=0.1, loss='deviance', max_depth=5,\n",
       "              max_features='auto', max_leaf_nodes=None,\n",
       "              min_impurity_decrease=0.0, min_impurity_split=None,\n",
       "              min_samples_leaf=1, min_samples_split=2,\n",
       "              min_weight_fraction_leaf=0.0, n_estimators=1000,\n",
       "              n_iter_no_change=None, presort='auto', random_state=None,\n",
       "              subsample=1.0, tol=0.0001, validation_fraction=0.1,\n",
       "              verbose=0, warm_start=False)"
      ]
     },
     "execution_count": 758,
     "metadata": {},
     "output_type": "execute_result"
    }
   ],
   "source": [
    "gb = GradientBoostingClassifier(learning_rate=.1, \n",
    "                                n_estimators=1000, \n",
    "                                max_depth = 5, \n",
    "                                max_features= 'auto')\n",
    "gb.fit(X_train, y_train)"
   ]
  },
  {
   "cell_type": "code",
   "execution_count": 773,
   "metadata": {},
   "outputs": [
    {
     "name": "stdout",
     "output_type": "stream",
     "text": [
      "Precision: 0.50\n",
      "Recall: 0.83\n",
      "Accuracy: 0.95\n",
      "Threshold: 0.05\n"
     ]
    }
   ],
   "source": [
    "score_model(gb, X_test, y_test, .05)"
   ]
  },
  {
   "cell_type": "code",
   "execution_count": 717,
   "metadata": {},
   "outputs": [],
   "source": [
    "pickle.dump(gb, open('website/gb_model.pkl','wb'))"
   ]
  },
  {
   "cell_type": "code",
   "execution_count": null,
   "metadata": {},
   "outputs": [],
   "source": []
  },
  {
   "cell_type": "code",
   "execution_count": 750,
   "metadata": {},
   "outputs": [
    {
     "data": {
      "text/plain": [
       "<matplotlib.axes._subplots.AxesSubplot at 0x1b3ce6b6a0>"
      ]
     },
     "execution_count": 750,
     "metadata": {},
     "output_type": "execute_result"
    },
    {
     "data": {
      "image/png": "[encoded data removed]",
      "text/plain": [
       "<Figure size 864x432 with 1 Axes>"
      ]
     },
     "metadata": {
      "needs_background": "light"
     },
     "output_type": "display_data"
    }
   ],
   "source": [
    "feature_importances = gb.feature_importances_\n",
    "feature_names = X_train.columns\n",
    "df = pd.DataFrame(feature_importances, index = feature_names)\n",
    "df.sort_values(0, inplace = True)\n",
    "df.plot.barh(figsize = (12, 6))"
   ]
  },
  {
   "cell_type": "markdown",
   "metadata": {},
   "source": [
    "# Gradient Boosting - Oversample"
   ]
  },
  {
   "cell_type": "code",
   "execution_count": 714,
   "metadata": {},
   "outputs": [],
   "source": [
    "gbo = GradientBoostingClassifier(learning_rate=.1, \n",
    "                                n_estimators=1000, \n",
    "                                max_depth = 5, \n",
    "                                max_features= 'auto')\n",
    "model = gbo.fit(X_train_smote, y_train_smote)\n",
    "\n",
    "pickle.dump(model, open('./src/model.pkl', 'wb'))"
   ]
  },
  {
   "cell_type": "code",
   "execution_count": 715,
   "metadata": {},
   "outputs": [
    {
     "name": "stdout",
     "output_type": "stream",
     "text": [
      "Precision: 0.73\n",
      "Recall: 0.68\n",
      "Accuracy: 0.95\n",
      "Threshold: 0.50\n"
     ]
    }
   ],
   "source": [
    "score_model(gbo, X_test, y_test, .5)"
   ]
  },
  {
   "cell_type": "code",
   "execution_count": null,
   "metadata": {},
   "outputs": [],
   "source": []
  },
  {
   "cell_type": "code",
   "execution_count": 559,
   "metadata": {},
   "outputs": [
    {
     "data": {
      "text/plain": [
       "<matplotlib.axes._subplots.AxesSubplot at 0x150313470>"
      ]
     },
     "execution_count": 559,
     "metadata": {},
     "output_type": "execute_result"
    },
    {
     "data": {
      "image/png": "[encoded data removed]",
      "text/plain": [
       "<Figure size 864x432 with 1 Axes>"
      ]
     },
     "metadata": {
      "needs_background": "light"
     },
     "output_type": "display_data"
    }
   ],
   "source": [
    "feature_importances = gb.feature_importances_\n",
    "feature_names = X_train.columns\n",
    "df = pd.DataFrame(feature_importances, index = feature_names)\n",
    "df.sort_values(0, inplace = True)\n",
    "df.plot.barh(figsize = (12, 6))"
   ]
  },
  {
   "cell_type": "markdown",
   "metadata": {},
   "source": [
    "# Gradient Boosting - Most important features"
   ]
  },
  {
   "cell_type": "code",
   "execution_count": 560,
   "metadata": {},
   "outputs": [
    {
     "data": {
      "text/plain": [
       "GradientBoostingClassifier(criterion='friedman_mse', init=None,\n",
       "              learning_rate=0.1, loss='deviance', max_depth=5,\n",
       "              max_features='auto', max_leaf_nodes=None,\n",
       "              min_impurity_decrease=0.0, min_impurity_split=None,\n",
       "              min_samples_leaf=1, min_samples_split=2,\n",
       "              min_weight_fraction_leaf=0.0, n_estimators=1000,\n",
       "              n_iter_no_change=None, presort='auto', random_state=None,\n",
       "              subsample=1.0, tol=0.0001, validation_fraction=0.1,\n",
       "              verbose=0, warm_start=False)"
      ]
     },
     "execution_count": 560,
     "metadata": {},
     "output_type": "execute_result"
    }
   ],
   "source": [
    "X_train_important = X_train[['body_length_long', 'channel_0', 'GBP', 'body_length_200']]\n",
    "X_test_important = X_test[['body_length_long', 'channel_0', 'GBP', 'body_length_200']]\n",
    "gb = GradientBoostingClassifier(learning_rate=.1, \n",
    "                                n_estimators=1000, \n",
    "                                max_depth = 5, \n",
    "                                max_features= 'auto')\n",
    "gb.fit(X_train_important, y_train)"
   ]
  },
  {
   "cell_type": "code",
   "execution_count": 524,
   "metadata": {},
   "outputs": [
    {
     "name": "stdout",
     "output_type": "stream",
     "text": [
      "Precision: 0.66\n",
      "Recall: 0.11\n",
      "Accuracy: 0.91\n",
      "Threshold: 0.50\n"
     ]
    }
   ],
   "source": [
    "score_model(gb, X_test_important, y_test, .5)"
   ]
  },
  {
   "cell_type": "markdown",
   "metadata": {},
   "source": [
    "# Web Page Support"
   ]
  },
  {
   "cell_type": "markdown",
   "metadata": {},
   "source": [
    "#### Fraudify:\n",
    "* Data Driven Fraud Detection\n",
    "\n",
    "#### Discover instant benefits:\n",
    "* Prevent unnecessary losses due to fraudulent activity\n",
    "* Maximize the impact of your fraud investigation efforts\n",
    "* Improve customer satisfaction with automated approval of low risk events"
   ]
  },
  {
   "cell_type": "code",
   "execution_count": null,
   "metadata": {},
   "outputs": [],
   "source": []
  },
  {
   "cell_type": "markdown",
   "metadata": {},
   "source": [
    "# Database setup"
   ]
  },
  {
   "cell_type": "code",
   "execution_count": 619,
   "metadata": {},
   "outputs": [],
   "source": [
    "with open('/Users/tylerpreston/bin/config/casestudy_rds.conf') as file:\n",
    "    pw = file.read().strip()"
   ]
  },
  {
   "cell_type": "code",
   "execution_count": 680,
   "metadata": {},
   "outputs": [],
   "source": [
    "conn = psycopg2.connect(dbname='casestudy', \n",
    "                        port = '5432', \n",
    "                        user ='Admin1', \n",
    "                        host='casestudy.c6isxf0drhi3.us-east-1.rds.amazonaws.com', \n",
    "                        password='gschool92')"
   ]
  },
  {
   "cell_type": "code",
   "execution_count": 681,
   "metadata": {},
   "outputs": [],
   "source": [
    "cur = conn.cursor()"
   ]
  },
  {
   "cell_type": "code",
   "execution_count": 682,
   "metadata": {},
   "outputs": [],
   "source": [
    "cur.execute('''\n",
    "CREATE TABLE account(\n",
    "   user_id serial PRIMARY KEY,\n",
    "   username VARCHAR (50) UNIQUE NOT NULL,\n",
    "   password VARCHAR (50) NOT NULL,\n",
    "   email VARCHAR (355) UNIQUE NOT NULL\n",
    ");\n",
    "\n",
    "''')"
   ]
  },
  {
   "cell_type": "code",
   "execution_count": 683,
   "metadata": {},
   "outputs": [],
   "source": [
    "sql = \"\"\"INSERT INTO account (user_id, username, password, email)\n",
    "            VALUES(2345, 'Big Jon Bobo', 'gschool92', 'daniel@vega.com');\n",
    "            \"\"\"\n",
    "cur.execute(sql)\n",
    "\n",
    "# INSERT INTO books (id, title, author_id, subject_id)\n",
    "# booktown-#        VALUES (41472, 'Practical PostgreSQL', 1212, 4);"
   ]
  },
  {
   "cell_type": "code",
   "execution_count": 685,
   "metadata": {},
   "outputs": [],
   "source": [
    "sql = '''\n",
    "SELECT *\n",
    "FROM account\n",
    "'''\n",
    "cur.execute(sql)"
   ]
  },
  {
   "cell_type": "code",
   "execution_count": 686,
   "metadata": {},
   "outputs": [],
   "source": [
    "rows = cur.fetchall()"
   ]
  },
  {
   "cell_type": "code",
   "execution_count": 687,
   "metadata": {},
   "outputs": [
    {
     "data": {
      "text/plain": [
       "[(2345, 'Big Jon Bobo', 'gschool92', 'daniel@vega.com')]"
      ]
     },
     "execution_count": 687,
     "metadata": {},
     "output_type": "execute_result"
    }
   ],
   "source": [
    "rows"
   ]
  },
  {
   "cell_type": "code",
   "execution_count": null,
   "metadata": {},
   "outputs": [],
   "source": []
  }
 ],
 "metadata": {
  "kernelspec": {
   "display_name": "Python 3",
   "language": "python",
   "name": "python3"
  },
  "language_info": {
   "codemirror_mode": {
    "name": "ipython",
    "version": 3
   },
   "file_extension": ".py",
   "mimetype": "text/x-python",
   "name": "python",
   "nbconvert_exporter": "python",
   "pygments_lexer": "ipython3",
   "version": "3.7.1"
  }
 },
 "nbformat": 4,
 "nbformat_minor": 2
}
